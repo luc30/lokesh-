{
  "nbformat": 4,
  "nbformat_minor": 0,
  "metadata": {
    "kernelspec": {
      "display_name": "Python 3",
      "language": "python",
      "name": "python3"
    },
    "language_info": {
      "codemirror_mode": {
        "name": "ipython",
        "version": 3
      },
      "file_extension": ".py",
      "mimetype": "text/x-python",
      "name": "python",
      "nbconvert_exporter": "python",
      "pygments_lexer": "ipython3",
      "version": "3.7.6"
    },
    "colab": {
      "name": "TS_with_Pandas.ipynb",
      "provenance": [],
      "collapsed_sections": [],
      "include_colab_link": true
    }
  },
  "cells": [
    {
      "cell_type": "markdown",
      "metadata": {
        "id": "view-in-github",
        "colab_type": "text"
      },
      "source": [
        "<a href=\"https://colab.research.google.com/github/luc30/lokesh-/blob/master/TS_with_Pandas.ipynb\" target=\"_parent\"><img src=\"https://colab.research.google.com/assets/colab-badge.svg\" alt=\"Open In Colab\"/></a>"
      ]
    },
    {
      "cell_type": "markdown",
      "metadata": {
        "id": "WgJBCUNXKwRb"
      },
      "source": [
        "# Time Series with Pandas\n",
        "\n",
        "Time series means data driven by time\n",
        "\n",
        "Here x axis is time and y axis is value which is changing with time\n",
        "\n",
        "Ex. \n",
        "share market data\n",
        "\n",
        "gold price data\n",
        "\n",
        "petrol price\n",
        "\n",
        "weather / temp / humidity\n",
        "\n",
        "population\n",
        "\n",
        "...etc\n",
        "\n",
        "\n"
      ]
    },
    {
      "cell_type": "code",
      "metadata": {
        "id": "xofPR5Nnsai5"
      },
      "source": [
        "import pandas as pd"
      ],
      "execution_count": null,
      "outputs": []
    },
    {
      "cell_type": "code",
      "metadata": {
        "id": "bajlf9Hjsai_"
      },
      "source": [
        "df=pd.read_csv(\"HistoricalQuotes.csv\")"
      ],
      "execution_count": null,
      "outputs": []
    },
    {
      "cell_type": "code",
      "metadata": {
        "colab": {
          "base_uri": "https://localhost:8080/",
          "height": 206
        },
        "id": "MkXu7XLFsajB",
        "outputId": "80c1b6bf-0dab-40a0-b5cc-24927774f09d"
      },
      "source": [
        "df.head()"
      ],
      "execution_count": null,
      "outputs": [
        {
          "output_type": "execute_result",
          "data": {
            "text/html": [
              "<div>\n",
              "<style scoped>\n",
              "    .dataframe tbody tr th:only-of-type {\n",
              "        vertical-align: middle;\n",
              "    }\n",
              "\n",
              "    .dataframe tbody tr th {\n",
              "        vertical-align: top;\n",
              "    }\n",
              "\n",
              "    .dataframe thead th {\n",
              "        text-align: right;\n",
              "    }\n",
              "</style>\n",
              "<table border=\"1\" class=\"dataframe\">\n",
              "  <thead>\n",
              "    <tr style=\"text-align: right;\">\n",
              "      <th></th>\n",
              "      <th>date</th>\n",
              "      <th>close</th>\n",
              "      <th>volume</th>\n",
              "      <th>open</th>\n",
              "      <th>high</th>\n",
              "      <th>low</th>\n",
              "    </tr>\n",
              "  </thead>\n",
              "  <tbody>\n",
              "    <tr>\n",
              "      <th>0</th>\n",
              "      <td>2019/08/10</td>\n",
              "      <td>200.99</td>\n",
              "      <td>24,619,446</td>\n",
              "      <td>201.23</td>\n",
              "      <td>202.760</td>\n",
              "      <td>199.29</td>\n",
              "    </tr>\n",
              "    <tr>\n",
              "      <th>1</th>\n",
              "      <td>2019/08/09</td>\n",
              "      <td>200.99</td>\n",
              "      <td>24619750.0000</td>\n",
              "      <td>201.30</td>\n",
              "      <td>202.760</td>\n",
              "      <td>199.29</td>\n",
              "    </tr>\n",
              "    <tr>\n",
              "      <th>2</th>\n",
              "      <td>2019/08/08</td>\n",
              "      <td>203.43</td>\n",
              "      <td>27009520.0000</td>\n",
              "      <td>200.20</td>\n",
              "      <td>203.530</td>\n",
              "      <td>199.39</td>\n",
              "    </tr>\n",
              "    <tr>\n",
              "      <th>3</th>\n",
              "      <td>2019/08/07</td>\n",
              "      <td>199.04</td>\n",
              "      <td>33364400.0000</td>\n",
              "      <td>195.41</td>\n",
              "      <td>199.560</td>\n",
              "      <td>193.82</td>\n",
              "    </tr>\n",
              "    <tr>\n",
              "      <th>4</th>\n",
              "      <td>2019/08/06</td>\n",
              "      <td>197.00</td>\n",
              "      <td>35824790.0000</td>\n",
              "      <td>196.31</td>\n",
              "      <td>198.067</td>\n",
              "      <td>194.04</td>\n",
              "    </tr>\n",
              "  </tbody>\n",
              "</table>\n",
              "</div>"
            ],
            "text/plain": [
              "         date   close         volume    open     high     low\n",
              "0  2019/08/10  200.99     24,619,446  201.23  202.760  199.29\n",
              "1  2019/08/09  200.99  24619750.0000  201.30  202.760  199.29\n",
              "2  2019/08/08  203.43  27009520.0000  200.20  203.530  199.39\n",
              "3  2019/08/07  199.04  33364400.0000  195.41  199.560  193.82\n",
              "4  2019/08/06  197.00  35824790.0000  196.31  198.067  194.04"
            ]
          },
          "metadata": {
            "tags": []
          },
          "execution_count": 3
        }
      ]
    },
    {
      "cell_type": "code",
      "metadata": {
        "colab": {
          "base_uri": "https://localhost:8080/"
        },
        "id": "lQeXdyLVsajG",
        "outputId": "afa3550a-40e2-4ce6-a450-1addf092e82a"
      },
      "source": [
        "# type(df.date[0]) \n",
        "type(df.loc[0,'date'])"
      ],
      "execution_count": null,
      "outputs": [
        {
          "output_type": "execute_result",
          "data": {
            "text/plain": [
              "str"
            ]
          },
          "metadata": {
            "tags": []
          },
          "execution_count": 4
        }
      ]
    },
    {
      "cell_type": "code",
      "metadata": {
        "colab": {
          "base_uri": "https://localhost:8080/"
        },
        "id": "kW7qPQgQt6Ax",
        "outputId": "9d65e3cc-89b4-423a-dfb1-7432d7fd4853"
      },
      "source": [
        "df.dtypes"
      ],
      "execution_count": null,
      "outputs": [
        {
          "output_type": "execute_result",
          "data": {
            "text/plain": [
              "date       object\n",
              "close     float64\n",
              "volume     object\n",
              "open      float64\n",
              "high      float64\n",
              "low       float64\n",
              "dtype: object"
            ]
          },
          "metadata": {
            "tags": []
          },
          "execution_count": 5
        }
      ]
    },
    {
      "cell_type": "code",
      "metadata": {
        "id": "2Afsh4MXsajI"
      },
      "source": [
        "df=pd.read_csv(\"HistoricalQuotes.csv\", parse_dates=[\"date\"])"
      ],
      "execution_count": null,
      "outputs": []
    },
    {
      "cell_type": "code",
      "metadata": {
        "colab": {
          "base_uri": "https://localhost:8080/"
        },
        "id": "U7nGcB9SsajJ",
        "outputId": "af1841e6-3adb-424e-c1e9-2bd2ede10ba3"
      },
      "source": [
        "type(df.date[0])"
      ],
      "execution_count": null,
      "outputs": [
        {
          "output_type": "execute_result",
          "data": {
            "text/plain": [
              "pandas._libs.tslibs.timestamps.Timestamp"
            ]
          },
          "metadata": {
            "tags": []
          },
          "execution_count": 7
        }
      ]
    },
    {
      "cell_type": "code",
      "metadata": {
        "colab": {
          "base_uri": "https://localhost:8080/"
        },
        "id": "6UTofdkZuMBB",
        "outputId": "a5476d29-5fb5-430b-9897-1e44ba1dc1ac"
      },
      "source": [
        "df.dtypes"
      ],
      "execution_count": null,
      "outputs": [
        {
          "output_type": "execute_result",
          "data": {
            "text/plain": [
              "date      datetime64[ns]\n",
              "close            float64\n",
              "volume            object\n",
              "open             float64\n",
              "high             float64\n",
              "low              float64\n",
              "dtype: object"
            ]
          },
          "metadata": {
            "tags": []
          },
          "execution_count": 8
        }
      ]
    },
    {
      "cell_type": "code",
      "metadata": {
        "colab": {
          "base_uri": "https://localhost:8080/",
          "height": 206
        },
        "id": "cuECtFYXsajK",
        "outputId": "32ca7853-8161-4bb6-a284-3c39e85f3256"
      },
      "source": [
        "df.head()"
      ],
      "execution_count": null,
      "outputs": [
        {
          "output_type": "execute_result",
          "data": {
            "text/html": [
              "<div>\n",
              "<style scoped>\n",
              "    .dataframe tbody tr th:only-of-type {\n",
              "        vertical-align: middle;\n",
              "    }\n",
              "\n",
              "    .dataframe tbody tr th {\n",
              "        vertical-align: top;\n",
              "    }\n",
              "\n",
              "    .dataframe thead th {\n",
              "        text-align: right;\n",
              "    }\n",
              "</style>\n",
              "<table border=\"1\" class=\"dataframe\">\n",
              "  <thead>\n",
              "    <tr style=\"text-align: right;\">\n",
              "      <th></th>\n",
              "      <th>date</th>\n",
              "      <th>close</th>\n",
              "      <th>volume</th>\n",
              "      <th>open</th>\n",
              "      <th>high</th>\n",
              "      <th>low</th>\n",
              "    </tr>\n",
              "  </thead>\n",
              "  <tbody>\n",
              "    <tr>\n",
              "      <th>0</th>\n",
              "      <td>2019-08-10</td>\n",
              "      <td>200.99</td>\n",
              "      <td>24,619,446</td>\n",
              "      <td>201.23</td>\n",
              "      <td>202.760</td>\n",
              "      <td>199.29</td>\n",
              "    </tr>\n",
              "    <tr>\n",
              "      <th>1</th>\n",
              "      <td>2019-08-09</td>\n",
              "      <td>200.99</td>\n",
              "      <td>24619750.0000</td>\n",
              "      <td>201.30</td>\n",
              "      <td>202.760</td>\n",
              "      <td>199.29</td>\n",
              "    </tr>\n",
              "    <tr>\n",
              "      <th>2</th>\n",
              "      <td>2019-08-08</td>\n",
              "      <td>203.43</td>\n",
              "      <td>27009520.0000</td>\n",
              "      <td>200.20</td>\n",
              "      <td>203.530</td>\n",
              "      <td>199.39</td>\n",
              "    </tr>\n",
              "    <tr>\n",
              "      <th>3</th>\n",
              "      <td>2019-08-07</td>\n",
              "      <td>199.04</td>\n",
              "      <td>33364400.0000</td>\n",
              "      <td>195.41</td>\n",
              "      <td>199.560</td>\n",
              "      <td>193.82</td>\n",
              "    </tr>\n",
              "    <tr>\n",
              "      <th>4</th>\n",
              "      <td>2019-08-06</td>\n",
              "      <td>197.00</td>\n",
              "      <td>35824790.0000</td>\n",
              "      <td>196.31</td>\n",
              "      <td>198.067</td>\n",
              "      <td>194.04</td>\n",
              "    </tr>\n",
              "  </tbody>\n",
              "</table>\n",
              "</div>"
            ],
            "text/plain": [
              "        date   close         volume    open     high     low\n",
              "0 2019-08-10  200.99     24,619,446  201.23  202.760  199.29\n",
              "1 2019-08-09  200.99  24619750.0000  201.30  202.760  199.29\n",
              "2 2019-08-08  203.43  27009520.0000  200.20  203.530  199.39\n",
              "3 2019-08-07  199.04  33364400.0000  195.41  199.560  193.82\n",
              "4 2019-08-06  197.00  35824790.0000  196.31  198.067  194.04"
            ]
          },
          "metadata": {
            "tags": []
          },
          "execution_count": 9
        }
      ]
    },
    {
      "cell_type": "code",
      "metadata": {
        "id": "QZY2oRbtsajL"
      },
      "source": [
        "df=pd.read_csv(\"HistoricalQuotes.csv\", parse_dates=[\"date\"], index_col=['date'])"
      ],
      "execution_count": null,
      "outputs": []
    },
    {
      "cell_type": "code",
      "metadata": {
        "id": "OpIpHoRqsajM"
      },
      "source": [
        "df.volume = df.volume.str.replace(\",\",\"\").astype(float)\n",
        "# df['volume'] = df['volume'].str.replace(\",\",\"\").astype(float)"
      ],
      "execution_count": null,
      "outputs": []
    },
    {
      "cell_type": "code",
      "metadata": {
        "colab": {
          "base_uri": "https://localhost:8080/",
          "height": 237
        },
        "id": "n5lIfDXeM4yM",
        "outputId": "36d3638d-35fe-41e3-8874-9bea567c2443"
      },
      "source": [
        "df.head()"
      ],
      "execution_count": null,
      "outputs": [
        {
          "output_type": "execute_result",
          "data": {
            "text/html": [
              "<div>\n",
              "<style scoped>\n",
              "    .dataframe tbody tr th:only-of-type {\n",
              "        vertical-align: middle;\n",
              "    }\n",
              "\n",
              "    .dataframe tbody tr th {\n",
              "        vertical-align: top;\n",
              "    }\n",
              "\n",
              "    .dataframe thead th {\n",
              "        text-align: right;\n",
              "    }\n",
              "</style>\n",
              "<table border=\"1\" class=\"dataframe\">\n",
              "  <thead>\n",
              "    <tr style=\"text-align: right;\">\n",
              "      <th></th>\n",
              "      <th>close</th>\n",
              "      <th>volume</th>\n",
              "      <th>open</th>\n",
              "      <th>high</th>\n",
              "      <th>low</th>\n",
              "    </tr>\n",
              "    <tr>\n",
              "      <th>date</th>\n",
              "      <th></th>\n",
              "      <th></th>\n",
              "      <th></th>\n",
              "      <th></th>\n",
              "      <th></th>\n",
              "    </tr>\n",
              "  </thead>\n",
              "  <tbody>\n",
              "    <tr>\n",
              "      <th>2019-08-10</th>\n",
              "      <td>200.99</td>\n",
              "      <td>24619446.0</td>\n",
              "      <td>201.23</td>\n",
              "      <td>202.760</td>\n",
              "      <td>199.29</td>\n",
              "    </tr>\n",
              "    <tr>\n",
              "      <th>2019-08-09</th>\n",
              "      <td>200.99</td>\n",
              "      <td>24619750.0</td>\n",
              "      <td>201.30</td>\n",
              "      <td>202.760</td>\n",
              "      <td>199.29</td>\n",
              "    </tr>\n",
              "    <tr>\n",
              "      <th>2019-08-08</th>\n",
              "      <td>203.43</td>\n",
              "      <td>27009520.0</td>\n",
              "      <td>200.20</td>\n",
              "      <td>203.530</td>\n",
              "      <td>199.39</td>\n",
              "    </tr>\n",
              "    <tr>\n",
              "      <th>2019-08-07</th>\n",
              "      <td>199.04</td>\n",
              "      <td>33364400.0</td>\n",
              "      <td>195.41</td>\n",
              "      <td>199.560</td>\n",
              "      <td>193.82</td>\n",
              "    </tr>\n",
              "    <tr>\n",
              "      <th>2019-08-06</th>\n",
              "      <td>197.00</td>\n",
              "      <td>35824790.0</td>\n",
              "      <td>196.31</td>\n",
              "      <td>198.067</td>\n",
              "      <td>194.04</td>\n",
              "    </tr>\n",
              "  </tbody>\n",
              "</table>\n",
              "</div>"
            ],
            "text/plain": [
              "             close      volume    open     high     low\n",
              "date                                                   \n",
              "2019-08-10  200.99  24619446.0  201.23  202.760  199.29\n",
              "2019-08-09  200.99  24619750.0  201.30  202.760  199.29\n",
              "2019-08-08  203.43  27009520.0  200.20  203.530  199.39\n",
              "2019-08-07  199.04  33364400.0  195.41  199.560  193.82\n",
              "2019-08-06  197.00  35824790.0  196.31  198.067  194.04"
            ]
          },
          "metadata": {
            "tags": []
          },
          "execution_count": 12
        }
      ]
    },
    {
      "cell_type": "code",
      "metadata": {
        "id": "Z6EbGoTesajM"
      },
      "source": [
        "df.sort_index(inplace=True)"
      ],
      "execution_count": null,
      "outputs": []
    },
    {
      "cell_type": "code",
      "metadata": {
        "id": "PhHYrNwqsajN",
        "colab": {
          "base_uri": "https://localhost:8080/"
        },
        "outputId": "10598396-f122-439f-e6c7-704e03f002ff"
      },
      "source": [
        "df.index"
      ],
      "execution_count": null,
      "outputs": [
        {
          "output_type": "execute_result",
          "data": {
            "text/plain": [
              "DatetimeIndex(['2018-08-09', '2018-08-10', '2018-08-13', '2018-08-14',\n",
              "               '2018-08-15', '2018-08-16', '2018-08-17', '2018-08-20',\n",
              "               '2018-08-21', '2018-08-22',\n",
              "               ...\n",
              "               '2019-07-30', '2019-07-31', '2019-08-01', '2019-08-02',\n",
              "               '2019-08-05', '2019-08-06', '2019-08-07', '2019-08-08',\n",
              "               '2019-08-09', '2019-08-10'],\n",
              "              dtype='datetime64[ns]', name='date', length=253, freq=None)"
            ]
          },
          "metadata": {
            "tags": []
          },
          "execution_count": 9
        }
      ]
    },
    {
      "cell_type": "code",
      "metadata": {
        "scrolled": true,
        "colab": {
          "base_uri": "https://localhost:8080/",
          "height": 331
        },
        "id": "wDp12Ss5sajO",
        "outputId": "fae63039-0554-4800-efa7-3c0ad5c13f0b"
      },
      "source": [
        "df.loc['2019-08']"
      ],
      "execution_count": null,
      "outputs": [
        {
          "output_type": "execute_result",
          "data": {
            "text/html": [
              "<div>\n",
              "<style scoped>\n",
              "    .dataframe tbody tr th:only-of-type {\n",
              "        vertical-align: middle;\n",
              "    }\n",
              "\n",
              "    .dataframe tbody tr th {\n",
              "        vertical-align: top;\n",
              "    }\n",
              "\n",
              "    .dataframe thead th {\n",
              "        text-align: right;\n",
              "    }\n",
              "</style>\n",
              "<table border=\"1\" class=\"dataframe\">\n",
              "  <thead>\n",
              "    <tr style=\"text-align: right;\">\n",
              "      <th></th>\n",
              "      <th>close</th>\n",
              "      <th>volume</th>\n",
              "      <th>open</th>\n",
              "      <th>high</th>\n",
              "      <th>low</th>\n",
              "    </tr>\n",
              "    <tr>\n",
              "      <th>date</th>\n",
              "      <th></th>\n",
              "      <th></th>\n",
              "      <th></th>\n",
              "      <th></th>\n",
              "      <th></th>\n",
              "    </tr>\n",
              "  </thead>\n",
              "  <tbody>\n",
              "    <tr>\n",
              "      <th>2019-08-01</th>\n",
              "      <td>208.43</td>\n",
              "      <td>54017920.0</td>\n",
              "      <td>213.90</td>\n",
              "      <td>218.030</td>\n",
              "      <td>206.7435</td>\n",
              "    </tr>\n",
              "    <tr>\n",
              "      <th>2019-08-02</th>\n",
              "      <td>204.02</td>\n",
              "      <td>40862120.0</td>\n",
              "      <td>205.53</td>\n",
              "      <td>206.430</td>\n",
              "      <td>201.6300</td>\n",
              "    </tr>\n",
              "    <tr>\n",
              "      <th>2019-08-05</th>\n",
              "      <td>193.34</td>\n",
              "      <td>52392970.0</td>\n",
              "      <td>197.99</td>\n",
              "      <td>198.649</td>\n",
              "      <td>192.5800</td>\n",
              "    </tr>\n",
              "    <tr>\n",
              "      <th>2019-08-06</th>\n",
              "      <td>197.00</td>\n",
              "      <td>35824790.0</td>\n",
              "      <td>196.31</td>\n",
              "      <td>198.067</td>\n",
              "      <td>194.0400</td>\n",
              "    </tr>\n",
              "    <tr>\n",
              "      <th>2019-08-07</th>\n",
              "      <td>199.04</td>\n",
              "      <td>33364400.0</td>\n",
              "      <td>195.41</td>\n",
              "      <td>199.560</td>\n",
              "      <td>193.8200</td>\n",
              "    </tr>\n",
              "    <tr>\n",
              "      <th>2019-08-08</th>\n",
              "      <td>203.43</td>\n",
              "      <td>27009520.0</td>\n",
              "      <td>200.20</td>\n",
              "      <td>203.530</td>\n",
              "      <td>199.3900</td>\n",
              "    </tr>\n",
              "    <tr>\n",
              "      <th>2019-08-09</th>\n",
              "      <td>200.99</td>\n",
              "      <td>24619750.0</td>\n",
              "      <td>201.30</td>\n",
              "      <td>202.760</td>\n",
              "      <td>199.2900</td>\n",
              "    </tr>\n",
              "    <tr>\n",
              "      <th>2019-08-10</th>\n",
              "      <td>200.99</td>\n",
              "      <td>24619446.0</td>\n",
              "      <td>201.23</td>\n",
              "      <td>202.760</td>\n",
              "      <td>199.2900</td>\n",
              "    </tr>\n",
              "  </tbody>\n",
              "</table>\n",
              "</div>"
            ],
            "text/plain": [
              "             close      volume    open     high       low\n",
              "date                                                     \n",
              "2019-08-01  208.43  54017920.0  213.90  218.030  206.7435\n",
              "2019-08-02  204.02  40862120.0  205.53  206.430  201.6300\n",
              "2019-08-05  193.34  52392970.0  197.99  198.649  192.5800\n",
              "2019-08-06  197.00  35824790.0  196.31  198.067  194.0400\n",
              "2019-08-07  199.04  33364400.0  195.41  199.560  193.8200\n",
              "2019-08-08  203.43  27009520.0  200.20  203.530  199.3900\n",
              "2019-08-09  200.99  24619750.0  201.30  202.760  199.2900\n",
              "2019-08-10  200.99  24619446.0  201.23  202.760  199.2900"
            ]
          },
          "metadata": {
            "tags": []
          },
          "execution_count": 10
        }
      ]
    },
    {
      "cell_type": "code",
      "metadata": {
        "id": "H7Yf68dlsajO",
        "colab": {
          "base_uri": "https://localhost:8080/"
        },
        "outputId": "602ab1f6-57ad-4d08-c31e-cd0933ce1d97"
      },
      "source": [
        "df['2019-08'].close #df.loc['2019-08','close']"
      ],
      "execution_count": null,
      "outputs": [
        {
          "output_type": "execute_result",
          "data": {
            "text/plain": [
              "date\n",
              "2019-08-01    208.43\n",
              "2019-08-02    204.02\n",
              "2019-08-05    193.34\n",
              "2019-08-06    197.00\n",
              "2019-08-07    199.04\n",
              "2019-08-08    203.43\n",
              "2019-08-09    200.99\n",
              "2019-08-10    200.99\n",
              "Name: close, dtype: float64"
            ]
          },
          "metadata": {
            "tags": []
          },
          "execution_count": 12
        }
      ]
    },
    {
      "cell_type": "code",
      "metadata": {
        "colab": {
          "base_uri": "https://localhost:8080/"
        },
        "id": "jCIfalPGsajP",
        "outputId": "c6b81056-2c3d-475e-d200-b39eb02ca70a"
      },
      "source": [
        "df.loc['2018', 'close']"
      ],
      "execution_count": null,
      "outputs": [
        {
          "output_type": "execute_result",
          "data": {
            "text/plain": [
              "date\n",
              "2018-08-09    208.88\n",
              "2018-08-10    207.53\n",
              "2018-08-13    208.87\n",
              "2018-08-14    209.75\n",
              "2018-08-15    210.24\n",
              "               ...  \n",
              "2018-12-24    146.83\n",
              "2018-12-26    157.17\n",
              "2018-12-27    156.15\n",
              "2018-12-28    156.23\n",
              "2018-12-31    157.74\n",
              "Name: close, Length: 99, dtype: float64"
            ]
          },
          "metadata": {
            "tags": []
          },
          "execution_count": 13
        }
      ]
    },
    {
      "cell_type": "code",
      "metadata": {
        "colab": {
          "base_uri": "https://localhost:8080/"
        },
        "id": "_psQ6RCqsajQ",
        "outputId": "8fe8d968-786a-4484-a49e-1964cb776c2e"
      },
      "source": [
        "df.loc['2019-08','close'].mean()"
      ],
      "execution_count": null,
      "outputs": [
        {
          "output_type": "execute_result",
          "data": {
            "text/plain": [
              "200.905"
            ]
          },
          "metadata": {
            "tags": []
          },
          "execution_count": 14
        }
      ]
    },
    {
      "cell_type": "code",
      "metadata": {
        "id": "5oUtiEIgsajR",
        "colab": {
          "base_uri": "https://localhost:8080/"
        },
        "outputId": "33942d48-c737-4c83-a46b-9d7af4dfcf27"
      },
      "source": [
        "df['2019-08'].close.median()"
      ],
      "execution_count": null,
      "outputs": [
        {
          "output_type": "execute_result",
          "data": {
            "text/plain": [
              "200.99"
            ]
          },
          "metadata": {
            "tags": []
          },
          "execution_count": 15
        }
      ]
    },
    {
      "cell_type": "code",
      "metadata": {
        "id": "AptjrmX3sajR",
        "colab": {
          "base_uri": "https://localhost:8080/"
        },
        "outputId": "307fb3ab-8422-4b9d-fc31-3f32dac18399"
      },
      "source": [
        "df['2019-08'].close.mode()"
      ],
      "execution_count": null,
      "outputs": [
        {
          "output_type": "execute_result",
          "data": {
            "text/plain": [
              "0    200.99\n",
              "dtype: float64"
            ]
          },
          "metadata": {
            "tags": []
          },
          "execution_count": 16
        }
      ]
    },
    {
      "cell_type": "code",
      "metadata": {
        "id": "WFt1yEsnsajS",
        "colab": {
          "base_uri": "https://localhost:8080/"
        },
        "outputId": "23ec3ea9-3ad3-4412-9c20-2264ffcbc4b4"
      },
      "source": [
        "df.loc['2019-08-02']"
      ],
      "execution_count": null,
      "outputs": [
        {
          "output_type": "execute_result",
          "data": {
            "text/plain": [
              "close          204.02\n",
              "volume    40862120.00\n",
              "open           205.53\n",
              "high           206.43\n",
              "low            201.63\n",
              "Name: 2019-08-02 00:00:00, dtype: float64"
            ]
          },
          "metadata": {
            "tags": []
          },
          "execution_count": 17
        }
      ]
    },
    {
      "cell_type": "code",
      "metadata": {
        "colab": {
          "base_uri": "https://localhost:8080/",
          "height": 833
        },
        "id": "XljlOd7EsajT",
        "outputId": "42bc34fd-4092-4d7a-82cd-6f8b36b35751"
      },
      "source": [
        "df.loc['2019-07-09':'2019-08-09'] \n",
        "# Time :: count ticks from midnight 1/1/1971\n",
        "# Date is converted into a number of ticks"
      ],
      "execution_count": null,
      "outputs": [
        {
          "output_type": "execute_result",
          "data": {
            "text/html": [
              "<div>\n",
              "<style scoped>\n",
              "    .dataframe tbody tr th:only-of-type {\n",
              "        vertical-align: middle;\n",
              "    }\n",
              "\n",
              "    .dataframe tbody tr th {\n",
              "        vertical-align: top;\n",
              "    }\n",
              "\n",
              "    .dataframe thead th {\n",
              "        text-align: right;\n",
              "    }\n",
              "</style>\n",
              "<table border=\"1\" class=\"dataframe\">\n",
              "  <thead>\n",
              "    <tr style=\"text-align: right;\">\n",
              "      <th></th>\n",
              "      <th>close</th>\n",
              "      <th>volume</th>\n",
              "      <th>open</th>\n",
              "      <th>high</th>\n",
              "      <th>low</th>\n",
              "    </tr>\n",
              "    <tr>\n",
              "      <th>date</th>\n",
              "      <th></th>\n",
              "      <th></th>\n",
              "      <th></th>\n",
              "      <th></th>\n",
              "      <th></th>\n",
              "    </tr>\n",
              "  </thead>\n",
              "  <tbody>\n",
              "    <tr>\n",
              "      <th>2019-07-09</th>\n",
              "      <td>201.24</td>\n",
              "      <td>20578020.0</td>\n",
              "      <td>199.20</td>\n",
              "      <td>201.5100</td>\n",
              "      <td>198.8100</td>\n",
              "    </tr>\n",
              "    <tr>\n",
              "      <th>2019-07-10</th>\n",
              "      <td>203.23</td>\n",
              "      <td>17897140.0</td>\n",
              "      <td>201.85</td>\n",
              "      <td>203.7300</td>\n",
              "      <td>201.5600</td>\n",
              "    </tr>\n",
              "    <tr>\n",
              "      <th>2019-07-11</th>\n",
              "      <td>201.75</td>\n",
              "      <td>20191840.0</td>\n",
              "      <td>203.31</td>\n",
              "      <td>204.3900</td>\n",
              "      <td>201.7100</td>\n",
              "    </tr>\n",
              "    <tr>\n",
              "      <th>2019-07-12</th>\n",
              "      <td>203.30</td>\n",
              "      <td>17595210.0</td>\n",
              "      <td>202.45</td>\n",
              "      <td>204.0000</td>\n",
              "      <td>202.2000</td>\n",
              "    </tr>\n",
              "    <tr>\n",
              "      <th>2019-07-15</th>\n",
              "      <td>205.21</td>\n",
              "      <td>16947420.0</td>\n",
              "      <td>204.09</td>\n",
              "      <td>205.8700</td>\n",
              "      <td>204.0000</td>\n",
              "    </tr>\n",
              "    <tr>\n",
              "      <th>2019-07-16</th>\n",
              "      <td>204.50</td>\n",
              "      <td>16866820.0</td>\n",
              "      <td>204.59</td>\n",
              "      <td>206.1100</td>\n",
              "      <td>203.5000</td>\n",
              "    </tr>\n",
              "    <tr>\n",
              "      <th>2019-07-17</th>\n",
              "      <td>203.35</td>\n",
              "      <td>14107450.0</td>\n",
              "      <td>204.05</td>\n",
              "      <td>205.0915</td>\n",
              "      <td>203.2700</td>\n",
              "    </tr>\n",
              "    <tr>\n",
              "      <th>2019-07-18</th>\n",
              "      <td>205.66</td>\n",
              "      <td>18582160.0</td>\n",
              "      <td>204.00</td>\n",
              "      <td>205.8800</td>\n",
              "      <td>203.7000</td>\n",
              "    </tr>\n",
              "    <tr>\n",
              "      <th>2019-07-19</th>\n",
              "      <td>202.59</td>\n",
              "      <td>20929310.0</td>\n",
              "      <td>205.79</td>\n",
              "      <td>206.5000</td>\n",
              "      <td>202.3600</td>\n",
              "    </tr>\n",
              "    <tr>\n",
              "      <th>2019-07-22</th>\n",
              "      <td>207.22</td>\n",
              "      <td>22277930.0</td>\n",
              "      <td>203.65</td>\n",
              "      <td>207.2300</td>\n",
              "      <td>203.6100</td>\n",
              "    </tr>\n",
              "    <tr>\n",
              "      <th>2019-07-23</th>\n",
              "      <td>208.84</td>\n",
              "      <td>18355210.0</td>\n",
              "      <td>208.46</td>\n",
              "      <td>208.9100</td>\n",
              "      <td>207.2900</td>\n",
              "    </tr>\n",
              "    <tr>\n",
              "      <th>2019-07-24</th>\n",
              "      <td>208.67</td>\n",
              "      <td>14991570.0</td>\n",
              "      <td>207.67</td>\n",
              "      <td>209.1500</td>\n",
              "      <td>207.1700</td>\n",
              "    </tr>\n",
              "    <tr>\n",
              "      <th>2019-07-25</th>\n",
              "      <td>207.02</td>\n",
              "      <td>13909560.0</td>\n",
              "      <td>208.89</td>\n",
              "      <td>209.2400</td>\n",
              "      <td>206.7300</td>\n",
              "    </tr>\n",
              "    <tr>\n",
              "      <th>2019-07-26</th>\n",
              "      <td>207.74</td>\n",
              "      <td>17618870.0</td>\n",
              "      <td>207.48</td>\n",
              "      <td>209.7300</td>\n",
              "      <td>207.1400</td>\n",
              "    </tr>\n",
              "    <tr>\n",
              "      <th>2019-07-29</th>\n",
              "      <td>209.68</td>\n",
              "      <td>21673390.0</td>\n",
              "      <td>208.46</td>\n",
              "      <td>210.6400</td>\n",
              "      <td>208.4400</td>\n",
              "    </tr>\n",
              "    <tr>\n",
              "      <th>2019-07-30</th>\n",
              "      <td>208.78</td>\n",
              "      <td>33935720.0</td>\n",
              "      <td>208.76</td>\n",
              "      <td>210.1600</td>\n",
              "      <td>207.3100</td>\n",
              "    </tr>\n",
              "    <tr>\n",
              "      <th>2019-07-31</th>\n",
              "      <td>213.04</td>\n",
              "      <td>69281360.0</td>\n",
              "      <td>216.42</td>\n",
              "      <td>221.3700</td>\n",
              "      <td>211.3000</td>\n",
              "    </tr>\n",
              "    <tr>\n",
              "      <th>2019-08-01</th>\n",
              "      <td>208.43</td>\n",
              "      <td>54017920.0</td>\n",
              "      <td>213.90</td>\n",
              "      <td>218.0300</td>\n",
              "      <td>206.7435</td>\n",
              "    </tr>\n",
              "    <tr>\n",
              "      <th>2019-08-02</th>\n",
              "      <td>204.02</td>\n",
              "      <td>40862120.0</td>\n",
              "      <td>205.53</td>\n",
              "      <td>206.4300</td>\n",
              "      <td>201.6300</td>\n",
              "    </tr>\n",
              "    <tr>\n",
              "      <th>2019-08-05</th>\n",
              "      <td>193.34</td>\n",
              "      <td>52392970.0</td>\n",
              "      <td>197.99</td>\n",
              "      <td>198.6490</td>\n",
              "      <td>192.5800</td>\n",
              "    </tr>\n",
              "    <tr>\n",
              "      <th>2019-08-06</th>\n",
              "      <td>197.00</td>\n",
              "      <td>35824790.0</td>\n",
              "      <td>196.31</td>\n",
              "      <td>198.0670</td>\n",
              "      <td>194.0400</td>\n",
              "    </tr>\n",
              "    <tr>\n",
              "      <th>2019-08-07</th>\n",
              "      <td>199.04</td>\n",
              "      <td>33364400.0</td>\n",
              "      <td>195.41</td>\n",
              "      <td>199.5600</td>\n",
              "      <td>193.8200</td>\n",
              "    </tr>\n",
              "    <tr>\n",
              "      <th>2019-08-08</th>\n",
              "      <td>203.43</td>\n",
              "      <td>27009520.0</td>\n",
              "      <td>200.20</td>\n",
              "      <td>203.5300</td>\n",
              "      <td>199.3900</td>\n",
              "    </tr>\n",
              "    <tr>\n",
              "      <th>2019-08-09</th>\n",
              "      <td>200.99</td>\n",
              "      <td>24619750.0</td>\n",
              "      <td>201.30</td>\n",
              "      <td>202.7600</td>\n",
              "      <td>199.2900</td>\n",
              "    </tr>\n",
              "  </tbody>\n",
              "</table>\n",
              "</div>"
            ],
            "text/plain": [
              "             close      volume    open      high       low\n",
              "date                                                      \n",
              "2019-07-09  201.24  20578020.0  199.20  201.5100  198.8100\n",
              "2019-07-10  203.23  17897140.0  201.85  203.7300  201.5600\n",
              "2019-07-11  201.75  20191840.0  203.31  204.3900  201.7100\n",
              "2019-07-12  203.30  17595210.0  202.45  204.0000  202.2000\n",
              "2019-07-15  205.21  16947420.0  204.09  205.8700  204.0000\n",
              "2019-07-16  204.50  16866820.0  204.59  206.1100  203.5000\n",
              "2019-07-17  203.35  14107450.0  204.05  205.0915  203.2700\n",
              "2019-07-18  205.66  18582160.0  204.00  205.8800  203.7000\n",
              "2019-07-19  202.59  20929310.0  205.79  206.5000  202.3600\n",
              "2019-07-22  207.22  22277930.0  203.65  207.2300  203.6100\n",
              "2019-07-23  208.84  18355210.0  208.46  208.9100  207.2900\n",
              "2019-07-24  208.67  14991570.0  207.67  209.1500  207.1700\n",
              "2019-07-25  207.02  13909560.0  208.89  209.2400  206.7300\n",
              "2019-07-26  207.74  17618870.0  207.48  209.7300  207.1400\n",
              "2019-07-29  209.68  21673390.0  208.46  210.6400  208.4400\n",
              "2019-07-30  208.78  33935720.0  208.76  210.1600  207.3100\n",
              "2019-07-31  213.04  69281360.0  216.42  221.3700  211.3000\n",
              "2019-08-01  208.43  54017920.0  213.90  218.0300  206.7435\n",
              "2019-08-02  204.02  40862120.0  205.53  206.4300  201.6300\n",
              "2019-08-05  193.34  52392970.0  197.99  198.6490  192.5800\n",
              "2019-08-06  197.00  35824790.0  196.31  198.0670  194.0400\n",
              "2019-08-07  199.04  33364400.0  195.41  199.5600  193.8200\n",
              "2019-08-08  203.43  27009520.0  200.20  203.5300  199.3900\n",
              "2019-08-09  200.99  24619750.0  201.30  202.7600  199.2900"
            ]
          },
          "metadata": {
            "tags": []
          },
          "execution_count": 19
        }
      ]
    },
    {
      "cell_type": "markdown",
      "metadata": {
        "id": "QuQgXS17DhZk"
      },
      "source": [
        "# Resample\n",
        "\n",
        "- D days\n",
        "- B bussiness days\n",
        "- W Week\n",
        "- M Month\n",
        "- Q Quarter\n",
        "- Y Year\n",
        "- MS Month Start\n",
        "- QS Quarter Start\n",
        "- H hour\n"
      ]
    },
    {
      "cell_type": "code",
      "metadata": {
        "colab": {
          "base_uri": "https://localhost:8080/"
        },
        "id": "0rR56-6f16BV",
        "outputId": "a18bd71a-9776-4420-bd11-7cff0cc40750"
      },
      "source": [
        "df.resample('M')"
      ],
      "execution_count": null,
      "outputs": [
        {
          "output_type": "execute_result",
          "data": {
            "text/plain": [
              "<pandas.core.resample.DatetimeIndexResampler object at 0x7fa2e700d890>"
            ]
          },
          "metadata": {
            "tags": []
          },
          "execution_count": 28
        }
      ]
    },
    {
      "cell_type": "code",
      "metadata": {
        "colab": {
          "base_uri": "https://localhost:8080/"
        },
        "id": "enRZFDs3sajU",
        "outputId": "9a5d21a7-ea61-415b-8fd3-67c80ed306da"
      },
      "source": [
        "list(df.close.resample(\"M\"))"
      ],
      "execution_count": null,
      "outputs": [
        {
          "output_type": "execute_result",
          "data": {
            "text/plain": [
              "[(Timestamp('2018-08-31 00:00:00', freq='M'), date\n",
              "  2018-08-09    208.88\n",
              "  2018-08-10    207.53\n",
              "  2018-08-13    208.87\n",
              "  2018-08-14    209.75\n",
              "  2018-08-15    210.24\n",
              "  2018-08-16    213.32\n",
              "  2018-08-17    217.58\n",
              "  2018-08-20    215.46\n",
              "  2018-08-21    215.04\n",
              "  2018-08-22    215.05\n",
              "  2018-08-23    215.49\n",
              "  2018-08-24    216.16\n",
              "  2018-08-27    217.94\n",
              "  2018-08-28    219.70\n",
              "  2018-08-29    222.98\n",
              "  2018-08-30    225.03\n",
              "  2018-08-31    227.63\n",
              "  Name: close, dtype: float64),\n",
              " (Timestamp('2018-09-30 00:00:00', freq='M'), date\n",
              "  2018-09-04    228.36\n",
              "  2018-09-05    226.87\n",
              "  2018-09-06    223.10\n",
              "  2018-09-07    221.30\n",
              "  2018-09-10    218.33\n",
              "  2018-09-11    223.85\n",
              "  2018-09-12    221.07\n",
              "  2018-09-13    226.41\n",
              "  2018-09-14    223.84\n",
              "  2018-09-17    217.88\n",
              "  2018-09-18    218.24\n",
              "  2018-09-19    218.37\n",
              "  2018-09-20    220.03\n",
              "  2018-09-21    217.66\n",
              "  2018-09-24    220.79\n",
              "  2018-09-25    222.19\n",
              "  2018-09-26    220.42\n",
              "  2018-09-27    224.95\n",
              "  2018-09-28    225.74\n",
              "  Name: close, dtype: float64),\n",
              " (Timestamp('2018-10-31 00:00:00', freq='M'), date\n",
              "  2018-10-01    227.26\n",
              "  2018-10-02    229.28\n",
              "  2018-10-03    232.07\n",
              "  2018-10-04    227.99\n",
              "  2018-10-05    224.29\n",
              "  2018-10-08    223.77\n",
              "  2018-10-09    226.87\n",
              "  2018-10-10    216.36\n",
              "  2018-10-11    214.45\n",
              "  2018-10-12    222.11\n",
              "  2018-10-15    217.36\n",
              "  2018-10-16    222.15\n",
              "  2018-10-17    221.19\n",
              "  2018-10-18    216.02\n",
              "  2018-10-19    219.31\n",
              "  2018-10-22    220.65\n",
              "  2018-10-23    222.73\n",
              "  2018-10-24    215.09\n",
              "  2018-10-25    219.80\n",
              "  2018-10-26    216.30\n",
              "  2018-10-29    212.24\n",
              "  2018-10-30    213.30\n",
              "  2018-10-31    218.86\n",
              "  Name: close, dtype: float64),\n",
              " (Timestamp('2018-11-30 00:00:00', freq='M'), date\n",
              "  2018-11-01    222.22\n",
              "  2018-11-02    207.48\n",
              "  2018-11-05    201.59\n",
              "  2018-11-06    203.77\n",
              "  2018-11-07    209.95\n",
              "  2018-11-08    208.49\n",
              "  2018-11-09    204.47\n",
              "  2018-11-12    194.17\n",
              "  2018-11-13    192.23\n",
              "  2018-11-14    186.80\n",
              "  2018-11-15    191.41\n",
              "  2018-11-16    193.53\n",
              "  2018-11-19    185.86\n",
              "  2018-11-20    176.98\n",
              "  2018-11-21    176.78\n",
              "  2018-11-23    172.29\n",
              "  2018-11-26    174.62\n",
              "  2018-11-27    174.24\n",
              "  2018-11-28    180.94\n",
              "  2018-11-29    179.55\n",
              "  2018-11-30    178.58\n",
              "  Name: close, dtype: float64),\n",
              " (Timestamp('2018-12-31 00:00:00', freq='M'), date\n",
              "  2018-12-03    184.82\n",
              "  2018-12-04    176.69\n",
              "  2018-12-06    174.72\n",
              "  2018-12-07    168.49\n",
              "  2018-12-10    169.60\n",
              "  2018-12-11    168.63\n",
              "  2018-12-12    169.10\n",
              "  2018-12-13    170.95\n",
              "  2018-12-14    165.48\n",
              "  2018-12-17    163.94\n",
              "  2018-12-18    166.07\n",
              "  2018-12-19    160.89\n",
              "  2018-12-20    156.83\n",
              "  2018-12-21    150.73\n",
              "  2018-12-24    146.83\n",
              "  2018-12-26    157.17\n",
              "  2018-12-27    156.15\n",
              "  2018-12-28    156.23\n",
              "  2018-12-31    157.74\n",
              "  Name: close, dtype: float64),\n",
              " (Timestamp('2019-01-31 00:00:00', freq='M'), date\n",
              "  2019-01-02    157.92\n",
              "  2019-01-03    142.19\n",
              "  2019-01-04    148.26\n",
              "  2019-01-07    147.93\n",
              "  2019-01-08    150.75\n",
              "  2019-01-09    153.31\n",
              "  2019-01-10    153.80\n",
              "  2019-01-11    152.29\n",
              "  2019-01-14    150.00\n",
              "  2019-01-15    153.07\n",
              "  2019-01-16    154.94\n",
              "  2019-01-17    155.86\n",
              "  2019-01-18    156.82\n",
              "  2019-01-22    153.30\n",
              "  2019-01-23    153.92\n",
              "  2019-01-24    152.70\n",
              "  2019-01-25    157.76\n",
              "  2019-01-28    156.30\n",
              "  2019-01-29    154.68\n",
              "  2019-01-30    165.25\n",
              "  2019-01-31    166.44\n",
              "  Name: close, dtype: float64),\n",
              " (Timestamp('2019-02-28 00:00:00', freq='M'), date\n",
              "  2019-02-01    166.52\n",
              "  2019-02-04    171.25\n",
              "  2019-02-05    174.18\n",
              "  2019-02-06    174.24\n",
              "  2019-02-07    170.94\n",
              "  2019-02-08    170.41\n",
              "  2019-02-11    169.43\n",
              "  2019-02-12    170.89\n",
              "  2019-02-13    170.18\n",
              "  2019-02-14    170.80\n",
              "  2019-02-15    170.42\n",
              "  2019-02-19    170.93\n",
              "  2019-02-20    172.03\n",
              "  2019-02-21    171.06\n",
              "  2019-02-22    172.97\n",
              "  2019-02-25    174.23\n",
              "  2019-02-26    174.33\n",
              "  2019-02-27    174.87\n",
              "  2019-02-28    173.15\n",
              "  Name: close, dtype: float64),\n",
              " (Timestamp('2019-03-31 00:00:00', freq='M'), date\n",
              "  2019-03-01    174.97\n",
              "  2019-03-04    175.85\n",
              "  2019-03-05    175.53\n",
              "  2019-03-06    174.52\n",
              "  2019-03-07    172.50\n",
              "  2019-03-08    172.91\n",
              "  2019-03-11    178.90\n",
              "  2019-03-12    180.91\n",
              "  2019-03-13    181.71\n",
              "  2019-03-14    183.73\n",
              "  2019-03-15    186.12\n",
              "  2019-03-18    188.02\n",
              "  2019-03-19    186.53\n",
              "  2019-03-20    188.16\n",
              "  2019-03-21    195.09\n",
              "  2019-03-22    191.05\n",
              "  2019-03-25    188.74\n",
              "  2019-03-26    186.79\n",
              "  2019-03-27    188.47\n",
              "  2019-03-28    188.72\n",
              "  2019-03-29    189.95\n",
              "  Name: close, dtype: float64),\n",
              " (Timestamp('2019-04-30 00:00:00', freq='M'), date\n",
              "  2019-04-01    191.24\n",
              "  2019-04-02    194.02\n",
              "  2019-04-03    195.35\n",
              "  2019-04-04    195.69\n",
              "  2019-04-05    197.00\n",
              "  2019-04-08    200.10\n",
              "  2019-04-09    199.50\n",
              "  2019-04-10    200.62\n",
              "  2019-04-11    198.95\n",
              "  2019-04-12    198.87\n",
              "  2019-04-15    199.23\n",
              "  2019-04-16    199.25\n",
              "  2019-04-17    203.13\n",
              "  2019-04-18    203.86\n",
              "  2019-04-22    204.53\n",
              "  2019-04-23    207.48\n",
              "  2019-04-24    207.16\n",
              "  2019-04-25    205.28\n",
              "  2019-04-26    204.30\n",
              "  2019-04-29    204.61\n",
              "  2019-04-30    200.67\n",
              "  Name: close, dtype: float64),\n",
              " (Timestamp('2019-05-31 00:00:00', freq='M'), date\n",
              "  2019-05-01    210.52\n",
              "  2019-05-02    209.15\n",
              "  2019-05-03    211.75\n",
              "  2019-05-06    208.48\n",
              "  2019-05-07    202.86\n",
              "  2019-05-08    202.90\n",
              "  2019-05-09    200.72\n",
              "  2019-05-10    197.18\n",
              "  2019-05-13    185.72\n",
              "  2019-05-14    188.66\n",
              "  2019-05-15    190.92\n",
              "  2019-05-16    190.08\n",
              "  2019-05-17    189.00\n",
              "  2019-05-20    183.09\n",
              "  2019-05-21    186.60\n",
              "  2019-05-22    182.78\n",
              "  2019-05-23    179.66\n",
              "  2019-05-24    178.97\n",
              "  2019-05-28    178.23\n",
              "  2019-05-29    177.38\n",
              "  2019-05-30    178.30\n",
              "  2019-05-31    175.07\n",
              "  Name: close, dtype: float64),\n",
              " (Timestamp('2019-06-30 00:00:00', freq='M'), date\n",
              "  2019-06-03    173.30\n",
              "  2019-06-04    179.64\n",
              "  2019-06-05    182.54\n",
              "  2019-06-06    185.22\n",
              "  2019-06-07    190.15\n",
              "  2019-06-10    192.58\n",
              "  2019-06-11    194.81\n",
              "  2019-06-12    194.19\n",
              "  2019-06-13    194.15\n",
              "  2019-06-14    192.74\n",
              "  2019-06-17    193.89\n",
              "  2019-06-18    198.45\n",
              "  2019-06-19    197.87\n",
              "  2019-06-20    199.46\n",
              "  2019-06-21    198.78\n",
              "  2019-06-24    198.58\n",
              "  2019-06-25    195.57\n",
              "  2019-06-26    199.80\n",
              "  2019-06-27    199.74\n",
              "  2019-06-28    197.92\n",
              "  Name: close, dtype: float64),\n",
              " (Timestamp('2019-07-31 00:00:00', freq='M'), date\n",
              "  2019-07-01    201.55\n",
              "  2019-07-02    202.73\n",
              "  2019-07-03    204.41\n",
              "  2019-07-05    204.23\n",
              "  2019-07-08    200.02\n",
              "  2019-07-09    201.24\n",
              "  2019-07-10    203.23\n",
              "  2019-07-11    201.75\n",
              "  2019-07-12    203.30\n",
              "  2019-07-15    205.21\n",
              "  2019-07-16    204.50\n",
              "  2019-07-17    203.35\n",
              "  2019-07-18    205.66\n",
              "  2019-07-19    202.59\n",
              "  2019-07-22    207.22\n",
              "  2019-07-23    208.84\n",
              "  2019-07-24    208.67\n",
              "  2019-07-25    207.02\n",
              "  2019-07-26    207.74\n",
              "  2019-07-29    209.68\n",
              "  2019-07-30    208.78\n",
              "  2019-07-31    213.04\n",
              "  Name: close, dtype: float64),\n",
              " (Timestamp('2019-08-31 00:00:00', freq='M'), date\n",
              "  2019-08-01    208.43\n",
              "  2019-08-02    204.02\n",
              "  2019-08-05    193.34\n",
              "  2019-08-06    197.00\n",
              "  2019-08-07    199.04\n",
              "  2019-08-08    203.43\n",
              "  2019-08-09    200.99\n",
              "  2019-08-10    200.99\n",
              "  Name: close, dtype: float64)]"
            ]
          },
          "metadata": {
            "tags": []
          },
          "execution_count": 20
        }
      ]
    },
    {
      "cell_type": "code",
      "metadata": {
        "id": "uQDPj74gsajV",
        "outputId": "99ca4780-be27-4eb6-8611-8f80b11c1adb"
      },
      "source": [
        "for month_data in list(df.resample(\"M\")):\n",
        "    s = pd.DataFrame(month_data)\n",
        "    print(type(month_data),type(s))"
      ],
      "execution_count": null,
      "outputs": [
        {
          "output_type": "stream",
          "text": [
            "<class 'tuple'> <class 'pandas.core.frame.DataFrame'>\n",
            "<class 'tuple'> <class 'pandas.core.frame.DataFrame'>\n",
            "<class 'tuple'> <class 'pandas.core.frame.DataFrame'>\n",
            "<class 'tuple'> <class 'pandas.core.frame.DataFrame'>\n",
            "<class 'tuple'> <class 'pandas.core.frame.DataFrame'>\n",
            "<class 'tuple'> <class 'pandas.core.frame.DataFrame'>\n",
            "<class 'tuple'> <class 'pandas.core.frame.DataFrame'>\n",
            "<class 'tuple'> <class 'pandas.core.frame.DataFrame'>\n",
            "<class 'tuple'> <class 'pandas.core.frame.DataFrame'>\n",
            "<class 'tuple'> <class 'pandas.core.frame.DataFrame'>\n",
            "<class 'tuple'> <class 'pandas.core.frame.DataFrame'>\n",
            "<class 'tuple'> <class 'pandas.core.frame.DataFrame'>\n",
            "<class 'tuple'> <class 'pandas.core.frame.DataFrame'>\n"
          ],
          "name": "stdout"
        }
      ]
    },
    {
      "cell_type": "code",
      "metadata": {
        "colab": {
          "base_uri": "https://localhost:8080/"
        },
        "id": "SH5R4v3VsajW",
        "outputId": "f9baca52-7c03-4146-eaa1-14c6b053351b"
      },
      "source": [
        "df.close.resample(\"M\").mean()"
      ],
      "execution_count": null,
      "outputs": [
        {
          "output_type": "execute_result",
          "data": {
            "text/plain": [
              "date\n",
              "2018-08-31    215.685294\n",
              "2018-09-30    222.073684\n",
              "2018-10-31    220.845652\n",
              "2018-11-30    191.235714\n",
              "2018-12-31    164.266316\n",
              "2019-01-31    154.166190\n",
              "2019-02-28    171.727895\n",
              "2019-03-31    183.293810\n",
              "2019-04-30    200.516190\n",
              "2019-05-31    191.273636\n",
              "2019-06-30    192.969000\n",
              "2019-07-31    205.216364\n",
              "2019-08-31    200.905000\n",
              "Freq: M, Name: close, dtype: float64"
            ]
          },
          "metadata": {
            "tags": []
          },
          "execution_count": 21
        }
      ]
    },
    {
      "cell_type": "code",
      "metadata": {
        "colab": {
          "base_uri": "https://localhost:8080/",
          "height": 309
        },
        "id": "hwCNW3mG3IH-",
        "outputId": "44c8259d-26a3-4b6d-d911-524dc84d1ac5"
      },
      "source": [
        "df.close.resample(\"Q\").median().plot()"
      ],
      "execution_count": null,
      "outputs": [
        {
          "output_type": "execute_result",
          "data": {
            "text/plain": [
              "<matplotlib.axes._subplots.AxesSubplot at 0x7fa95f1c5810>"
            ]
          },
          "metadata": {
            "tags": []
          },
          "execution_count": 22
        },
        {
          "output_type": "display_data",
          "data": {
            "image/png": "[encoded data removed]",
            "text/plain": [
              "<Figure size 432x288 with 1 Axes>"
            ]
          },
          "metadata": {
            "tags": [],
            "needs_background": "light"
          }
        }
      ]
    },
    {
      "cell_type": "code",
      "metadata": {
        "id": "6twPSpmgsajX",
        "colab": {
          "base_uri": "https://localhost:8080/",
          "height": 309
        },
        "outputId": "edd39d51-b576-41f4-c6ba-8245187181ac"
      },
      "source": [
        "%matplotlib inline\n",
        "df.close.resample(\"M\").median().plot()"
      ],
      "execution_count": null,
      "outputs": [
        {
          "output_type": "execute_result",
          "data": {
            "text/plain": [
              "<matplotlib.axes._subplots.AxesSubplot at 0x7fa95f1c0e90>"
            ]
          },
          "metadata": {
            "tags": []
          },
          "execution_count": 23
        },
        {
          "output_type": "display_data",
          "data": {
            "image/png": "[encoded data removed]",
            "text/plain": [
              "<Figure size 432x288 with 1 Axes>"
            ]
          },
          "metadata": {
            "tags": [],
            "needs_background": "light"
          }
        }
      ]
    },
    {
      "cell_type": "code",
      "metadata": {
        "id": "4mut6z2MsajY",
        "colab": {
          "base_uri": "https://localhost:8080/",
          "height": 309
        },
        "outputId": "3f225fb8-0aac-41e8-ad21-aa490bd52347"
      },
      "source": [
        "df.close.resample(\"W\").mean().plot()"
      ],
      "execution_count": null,
      "outputs": [
        {
          "output_type": "execute_result",
          "data": {
            "text/plain": [
              "<matplotlib.axes._subplots.AxesSubplot at 0x7fa95ec5c350>"
            ]
          },
          "metadata": {
            "tags": []
          },
          "execution_count": 24
        },
        {
          "output_type": "display_data",
          "data": {
            "image/png": "[encoded data removed]",
            "text/plain": [
              "<Figure size 432x288 with 1 Axes>"
            ]
          },
          "metadata": {
            "tags": [],
            "needs_background": "light"
          }
        }
      ]
    },
    {
      "cell_type": "code",
      "metadata": {
        "colab": {
          "base_uri": "https://localhost:8080/",
          "height": 309
        },
        "id": "74FLPjw8sajZ",
        "outputId": "4ab15986-1b98-4d75-f4cd-b73113d5bea7"
      },
      "source": [
        "df.close.resample(\"D\").mean().plot()"
      ],
      "execution_count": null,
      "outputs": [
        {
          "output_type": "execute_result",
          "data": {
            "text/plain": [
              "<matplotlib.axes._subplots.AxesSubplot at 0x7fa95e8c8b50>"
            ]
          },
          "metadata": {
            "tags": []
          },
          "execution_count": 25
        },
        {
          "output_type": "display_data",
          "data": {
            "image/png": "[encoded data removed]",
            "text/plain": [
              "<Figure size 432x288 with 1 Axes>"
            ]
          },
          "metadata": {
            "tags": [],
            "needs_background": "light"
          }
        }
      ]
    },
    {
      "cell_type": "code",
      "metadata": {
        "colab": {
          "base_uri": "https://localhost:8080/",
          "height": 309
        },
        "id": "O7FEisyRsajZ",
        "outputId": "39670d8e-fc2b-49f2-8764-f9d122f995aa"
      },
      "source": [
        "df.close.resample(\"B\").mean().plot()"
      ],
      "execution_count": null,
      "outputs": [
        {
          "output_type": "execute_result",
          "data": {
            "text/plain": [
              "<matplotlib.axes._subplots.AxesSubplot at 0x7fa95e81ddd0>"
            ]
          },
          "metadata": {
            "tags": []
          },
          "execution_count": 26
        },
        {
          "output_type": "display_data",
          "data": {
            "image/png": "[encoded data removed]",
            "text/plain": [
              "<Figure size 432x288 with 1 Axes>"
            ]
          },
          "metadata": {
            "tags": [],
            "needs_background": "light"
          }
        }
      ]
    },
    {
      "cell_type": "code",
      "metadata": {
        "id": "s_ionAJAsaja",
        "outputId": "f268b3d6-94ca-4eb7-e2b0-85df2e80d516"
      },
      "source": [
        "Quarterly_resampled_data = df.open.resample('Q').mean().plot()"
      ],
      "execution_count": null,
      "outputs": [
        {
          "output_type": "display_data",
          "data": {
            "image/png": "[encoded data removed]",
            "text/plain": [
              "<Figure size 432x288 with 1 Axes>"
            ]
          },
          "metadata": {
            "tags": [],
            "needs_background": "light"
          }
        }
      ]
    },
    {
      "cell_type": "code",
      "metadata": {
        "id": "Cg_V1eoesaje",
        "colab": {
          "base_uri": "https://localhost:8080/",
          "height": 297
        },
        "outputId": "fd7948e3-e99e-4db1-ba12-7fd5257ad6ba"
      },
      "source": [
        "df.open.resample('Y').mean().plot()"
      ],
      "execution_count": null,
      "outputs": [
        {
          "output_type": "execute_result",
          "data": {
            "text/plain": [
              "<matplotlib.axes._subplots.AxesSubplot at 0x7fa95e57f190>"
            ]
          },
          "metadata": {
            "tags": []
          },
          "execution_count": 36
        },
        {
          "output_type": "display_data",
          "data": {
            "image/png": "[encoded data removed]",
            "text/plain": [
              "<Figure size 432x288 with 1 Axes>"
            ]
          },
          "metadata": {
            "tags": [],
            "needs_background": "light"
          }
        }
      ]
    },
    {
      "cell_type": "code",
      "metadata": {
        "id": "8_Ueja3Ksajf",
        "colab": {
          "base_uri": "https://localhost:8080/",
          "height": 391
        },
        "outputId": "dff155d2-4603-4b95-cd1d-21c3c936e9b1"
      },
      "source": [
        "df.open.resample('M').mean().plot(kind=\"bar\")"
      ],
      "execution_count": null,
      "outputs": [
        {
          "output_type": "execute_result",
          "data": {
            "text/plain": [
              "<matplotlib.axes._subplots.AxesSubplot at 0x7fa95e553d50>"
            ]
          },
          "metadata": {
            "tags": []
          },
          "execution_count": 37
        },
        {
          "output_type": "display_data",
          "data": {
            "image/png": "[encoded data removed]",
            "text/plain": [
              "<Figure size 432x288 with 1 Axes>"
            ]
          },
          "metadata": {
            "tags": [],
            "needs_background": "light"
          }
        }
      ]
    },
    {
      "cell_type": "markdown",
      "metadata": {
        "id": "_GZuGkfUFhLR"
      },
      "source": [
        "# Date Range"
      ]
    },
    {
      "cell_type": "code",
      "metadata": {
        "id": "3Q-YdWxysaja",
        "colab": {
          "base_uri": "https://localhost:8080/"
        },
        "outputId": "a0d3fc2d-4b57-4037-da6a-bb5748dd674c"
      },
      "source": [
        "period = 15\n",
        "pd.date_range('2019-02', freq='MS', periods=period)"
      ],
      "execution_count": null,
      "outputs": [
        {
          "output_type": "execute_result",
          "data": {
            "text/plain": [
              "DatetimeIndex(['2019-02-01', '2019-03-01', '2019-04-01', '2019-05-01',\n",
              "               '2019-06-01', '2019-07-01', '2019-08-01', '2019-09-01',\n",
              "               '2019-10-01', '2019-11-01', '2019-12-01', '2020-01-01',\n",
              "               '2020-02-01', '2020-03-01', '2020-04-01'],\n",
              "              dtype='datetime64[ns]', freq='MS')"
            ]
          },
          "metadata": {
            "tags": []
          },
          "execution_count": 30
        }
      ]
    },
    {
      "cell_type": "code",
      "metadata": {
        "id": "2U7Qy4OBsajb",
        "colab": {
          "base_uri": "https://localhost:8080/"
        },
        "outputId": "fbb595c1-e640-4a0b-fb77-4a352ac32c9d"
      },
      "source": [
        "dr = pd.date_range('2019-02', '2020-08',freq='MS')\n",
        "print(dr)\n",
        "len(dr)"
      ],
      "execution_count": null,
      "outputs": [
        {
          "output_type": "stream",
          "text": [
            "DatetimeIndex(['2019-02-01', '2019-03-01', '2019-04-01', '2019-05-01',\n",
            "               '2019-06-01', '2019-07-01', '2019-08-01', '2019-09-01',\n",
            "               '2019-10-01', '2019-11-01', '2019-12-01', '2020-01-01',\n",
            "               '2020-02-01', '2020-03-01', '2020-04-01', '2020-05-01',\n",
            "               '2020-06-01', '2020-07-01', '2020-08-01'],\n",
            "              dtype='datetime64[ns]', freq='MS')\n"
          ],
          "name": "stdout"
        },
        {
          "output_type": "execute_result",
          "data": {
            "text/plain": [
              "19"
            ]
          },
          "metadata": {
            "tags": []
          },
          "execution_count": 31
        }
      ]
    },
    {
      "cell_type": "code",
      "metadata": {
        "id": "4SAGdLOHsajb",
        "colab": {
          "base_uri": "https://localhost:8080/"
        },
        "outputId": "fc27464e-409e-4dd5-ffca-2d142b14190c"
      },
      "source": [
        "pd.date_range('2019-01', freq='B', periods=20)"
      ],
      "execution_count": null,
      "outputs": [
        {
          "output_type": "execute_result",
          "data": {
            "text/plain": [
              "DatetimeIndex(['2019-01-01', '2019-01-02', '2019-01-03', '2019-01-04',\n",
              "               '2019-01-07', '2019-01-08', '2019-01-09', '2019-01-10',\n",
              "               '2019-01-11', '2019-01-14', '2019-01-15', '2019-01-16',\n",
              "               '2019-01-17', '2019-01-18', '2019-01-21', '2019-01-22',\n",
              "               '2019-01-23', '2019-01-24', '2019-01-25', '2019-01-28'],\n",
              "              dtype='datetime64[ns]', freq='B')"
            ]
          },
          "metadata": {
            "tags": []
          },
          "execution_count": 32
        }
      ]
    },
    {
      "cell_type": "code",
      "metadata": {
        "id": "yxhz6mYlsajc",
        "colab": {
          "base_uri": "https://localhost:8080/"
        },
        "outputId": "e1a1d78a-018c-48f9-83f7-f32ca14dd9e2"
      },
      "source": [
        "pd.date_range('2019-01', '2019-08',freq='B')"
      ],
      "execution_count": null,
      "outputs": [
        {
          "output_type": "execute_result",
          "data": {
            "text/plain": [
              "DatetimeIndex(['2019-01-01', '2019-01-02', '2019-01-03', '2019-01-04',\n",
              "               '2019-01-07', '2019-01-08', '2019-01-09', '2019-01-10',\n",
              "               '2019-01-11', '2019-01-14',\n",
              "               ...\n",
              "               '2019-07-19', '2019-07-22', '2019-07-23', '2019-07-24',\n",
              "               '2019-07-25', '2019-07-26', '2019-07-29', '2019-07-30',\n",
              "               '2019-07-31', '2019-08-01'],\n",
              "              dtype='datetime64[ns]', length=153, freq='B')"
            ]
          },
          "metadata": {
            "tags": []
          },
          "execution_count": 33
        }
      ]
    },
    {
      "cell_type": "code",
      "metadata": {
        "id": "cHQlJBQvsajh"
      },
      "source": [
        "rng=pd.date_range(start=\"2018-08-09\", periods=100,freq=\"B\")"
      ],
      "execution_count": null,
      "outputs": []
    },
    {
      "cell_type": "code",
      "metadata": {
        "id": "b9JtJPzosajh",
        "outputId": "c48938b0-91f5-4304-8333-a2cbccb3f095"
      },
      "source": [
        "rng"
      ],
      "execution_count": null,
      "outputs": [
        {
          "output_type": "execute_result",
          "data": {
            "text/plain": [
              "DatetimeIndex(['2018-08-09', '2018-08-10', '2018-08-13', '2018-08-14',\n",
              "               '2018-08-15', '2018-08-16', '2018-08-17', '2018-08-20',\n",
              "               '2018-08-21', '2018-08-22', '2018-08-23', '2018-08-24',\n",
              "               '2018-08-27', '2018-08-28', '2018-08-29', '2018-08-30',\n",
              "               '2018-08-31', '2018-09-03', '2018-09-04', '2018-09-05',\n",
              "               '2018-09-06', '2018-09-07', '2018-09-10', '2018-09-11',\n",
              "               '2018-09-12', '2018-09-13', '2018-09-14', '2018-09-17',\n",
              "               '2018-09-18', '2018-09-19', '2018-09-20', '2018-09-21',\n",
              "               '2018-09-24', '2018-09-25', '2018-09-26', '2018-09-27',\n",
              "               '2018-09-28', '2018-10-01', '2018-10-02', '2018-10-03',\n",
              "               '2018-10-04', '2018-10-05', '2018-10-08', '2018-10-09',\n",
              "               '2018-10-10', '2018-10-11', '2018-10-12', '2018-10-15',\n",
              "               '2018-10-16', '2018-10-17', '2018-10-18', '2018-10-19',\n",
              "               '2018-10-22', '2018-10-23', '2018-10-24', '2018-10-25',\n",
              "               '2018-10-26', '2018-10-29', '2018-10-30', '2018-10-31',\n",
              "               '2018-11-01', '2018-11-02', '2018-11-05', '2018-11-06',\n",
              "               '2018-11-07', '2018-11-08', '2018-11-09', '2018-11-12',\n",
              "               '2018-11-13', '2018-11-14', '2018-11-15', '2018-11-16',\n",
              "               '2018-11-19', '2018-11-20', '2018-11-21', '2018-11-22',\n",
              "               '2018-11-23', '2018-11-26', '2018-11-27', '2018-11-28',\n",
              "               '2018-11-29', '2018-11-30', '2018-12-03', '2018-12-04',\n",
              "               '2018-12-05', '2018-12-06', '2018-12-07', '2018-12-10',\n",
              "               '2018-12-11', '2018-12-12', '2018-12-13', '2018-12-14',\n",
              "               '2018-12-17', '2018-12-18', '2018-12-19', '2018-12-20',\n",
              "               '2018-12-21', '2018-12-24', '2018-12-25', '2018-12-26'],\n",
              "              dtype='datetime64[ns]', freq='B')"
            ]
          },
          "metadata": {
            "tags": []
          },
          "execution_count": 37
        }
      ]
    },
    {
      "cell_type": "code",
      "metadata": {
        "id": "r1ufuni7saji",
        "outputId": "79f8bdc9-9623-425c-ef05-0ef89229bdf1"
      },
      "source": [
        "rng=pd.date_range(start=\"2018-08-09\", end=\"2019/08/09\",freq=\"H\")\n",
        "rng"
      ],
      "execution_count": null,
      "outputs": [
        {
          "output_type": "execute_result",
          "data": {
            "text/plain": [
              "DatetimeIndex(['2018-08-09 00:00:00', '2018-08-09 01:00:00',\n",
              "               '2018-08-09 02:00:00', '2018-08-09 03:00:00',\n",
              "               '2018-08-09 04:00:00', '2018-08-09 05:00:00',\n",
              "               '2018-08-09 06:00:00', '2018-08-09 07:00:00',\n",
              "               '2018-08-09 08:00:00', '2018-08-09 09:00:00',\n",
              "               ...\n",
              "               '2019-08-08 15:00:00', '2019-08-08 16:00:00',\n",
              "               '2019-08-08 17:00:00', '2019-08-08 18:00:00',\n",
              "               '2019-08-08 19:00:00', '2019-08-08 20:00:00',\n",
              "               '2019-08-08 21:00:00', '2019-08-08 22:00:00',\n",
              "               '2019-08-08 23:00:00', '2019-08-09 00:00:00'],\n",
              "              dtype='datetime64[ns]', length=8761, freq='H')"
            ]
          },
          "metadata": {
            "tags": []
          },
          "execution_count": 38
        }
      ]
    },
    {
      "cell_type": "markdown",
      "metadata": {
        "id": "WgZNtU7RGr-9"
      },
      "source": [
        "# Series Creation with Date as index"
      ]
    },
    {
      "cell_type": "code",
      "metadata": {
        "id": "CMOh0JNusajc"
      },
      "source": [
        "period = 15\n",
        "x=pd.Series(range(period), index=pd.date_range('2019', freq='MS', periods=period))"
      ],
      "execution_count": null,
      "outputs": []
    },
    {
      "cell_type": "code",
      "metadata": {
        "id": "dlG3LOjNsajd",
        "outputId": "b76aaae7-dabd-4f9f-dd94-5c771120644c"
      },
      "source": [
        "x"
      ],
      "execution_count": null,
      "outputs": [
        {
          "output_type": "execute_result",
          "data": {
            "text/plain": [
              "2019-01-01     0\n",
              "2019-02-01     1\n",
              "2019-03-01     2\n",
              "2019-04-01     3\n",
              "2019-05-01     4\n",
              "2019-06-01     5\n",
              "2019-07-01     6\n",
              "2019-08-01     7\n",
              "2019-09-01     8\n",
              "2019-10-01     9\n",
              "2019-11-01    10\n",
              "2019-12-01    11\n",
              "2020-01-01    12\n",
              "2020-02-01    13\n",
              "2020-03-01    14\n",
              "Freq: MS, dtype: int64"
            ]
          },
          "metadata": {
            "tags": []
          },
          "execution_count": 45
        }
      ]
    },
    {
      "cell_type": "code",
      "metadata": {
        "id": "zAVWWQrXsajd",
        "colab": {
          "base_uri": "https://localhost:8080/"
        },
        "outputId": "257c0ef8-cc07-49fd-c86b-a9f236e36991"
      },
      "source": [
        "mx=pd.Series(range(3), index=pd.date_range('2019', freq='D', periods=3))\n",
        "mx"
      ],
      "execution_count": null,
      "outputs": [
        {
          "output_type": "execute_result",
          "data": {
            "text/plain": [
              "2019-01-01    0\n",
              "2019-01-02    1\n",
              "2019-01-03    2\n",
              "Freq: D, dtype: int64"
            ]
          },
          "metadata": {
            "tags": []
          },
          "execution_count": 35
        }
      ]
    },
    {
      "cell_type": "code",
      "metadata": {
        "id": "sMbOyfkxsaji",
        "colab": {
          "base_uri": "https://localhost:8080/"
        },
        "outputId": "ba6041f8-a5f6-42fc-ac7e-a7b5f2d9354d"
      },
      "source": [
        "import numpy as np\n",
        "rng=pd.date_range(start=\"2018-08-09\", end=\"2019/08/09\",freq=\"H\")\n",
        "rng\n",
        "x=np.random.randint(1,10,len(rng))\n",
        "print(x)"
      ],
      "execution_count": null,
      "outputs": [
        {
          "output_type": "stream",
          "text": [
            "[2 5 8 ... 8 8 5]\n"
          ],
          "name": "stdout"
        }
      ]
    },
    {
      "cell_type": "code",
      "metadata": {
        "id": "x804AwKzsajj"
      },
      "source": [
        "ts=pd.Series(np.random.randint(1,10,len(rng)), index=rng)"
      ],
      "execution_count": null,
      "outputs": []
    },
    {
      "cell_type": "code",
      "metadata": {
        "id": "F2VUONbksajj",
        "colab": {
          "base_uri": "https://localhost:8080/"
        },
        "outputId": "84d2d118-dbbd-49be-8681-591ba1a5857f"
      },
      "source": [
        "ts"
      ],
      "execution_count": null,
      "outputs": [
        {
          "output_type": "execute_result",
          "data": {
            "text/plain": [
              "2018-08-09 00:00:00    1\n",
              "2018-08-09 01:00:00    3\n",
              "2018-08-09 02:00:00    1\n",
              "2018-08-09 03:00:00    6\n",
              "2018-08-09 04:00:00    6\n",
              "                      ..\n",
              "2019-08-08 20:00:00    6\n",
              "2019-08-08 21:00:00    5\n",
              "2019-08-08 22:00:00    5\n",
              "2019-08-08 23:00:00    7\n",
              "2019-08-09 00:00:00    8\n",
              "Freq: H, Length: 8761, dtype: int64"
            ]
          },
          "metadata": {
            "tags": []
          },
          "execution_count": 40
        }
      ]
    },
    {
      "cell_type": "markdown",
      "metadata": {
        "id": "oPIqO289H5GW"
      },
      "source": [
        "# Filling Missing Values\n",
        "\n",
        "- Not applicable Value (NA)\n",
        "- Not a Number (NaN)\n",
        "\n",
        "\n",
        "# When to Fill the missing values ?\n",
        "\n",
        "- if not too many missing values are present ( less than 90%)\n",
        "\n",
        "- if not too many continuous missing values ( This is specially applicable in time series )"
      ]
    },
    {
      "cell_type": "markdown",
      "metadata": {
        "id": "zC_vHYkUJIYd"
      },
      "source": [
        "# Methods of Filling Missing values in Time Series\n",
        "\n",
        "- Rolling Average ( Moving Average)\n",
        "\n",
        "- interpolation ** (NOT Used much)\n",
        "\n",
        "- Forward fill\n",
        "\n",
        "- Back fill"
      ]
    },
    {
      "cell_type": "code",
      "metadata": {
        "id": "wem66TIysajk"
      },
      "source": [
        "import numpy as np"
      ],
      "execution_count": null,
      "outputs": []
    },
    {
      "cell_type": "code",
      "metadata": {
        "colab": {
          "base_uri": "https://localhost:8080/",
          "height": 488
        },
        "id": "KBTpMYwMDnvr",
        "outputId": "fdb18aa6-d282-4e37-d25f-18618cab330d"
      },
      "source": [
        "frame = pd.DataFrame({'Humidity':np.arange(50,64)})\n",
        "\n",
        "frame.loc[[3,7,10,11],'Humidity'] = np.nan # NA value\n",
        "frame['RA'] = frame.Humidity.rolling(3,min_periods=1).mean() \n",
        "frame['RA_center'] = frame.Humidity.rolling(3,min_periods=1,center=True).mean() \n",
        "frame"
      ],
      "execution_count": null,
      "outputs": [
        {
          "output_type": "execute_result",
          "data": {
            "text/html": [
              "<div>\n",
              "<style scoped>\n",
              "    .dataframe tbody tr th:only-of-type {\n",
              "        vertical-align: middle;\n",
              "    }\n",
              "\n",
              "    .dataframe tbody tr th {\n",
              "        vertical-align: top;\n",
              "    }\n",
              "\n",
              "    .dataframe thead th {\n",
              "        text-align: right;\n",
              "    }\n",
              "</style>\n",
              "<table border=\"1\" class=\"dataframe\">\n",
              "  <thead>\n",
              "    <tr style=\"text-align: right;\">\n",
              "      <th></th>\n",
              "      <th>Humidity</th>\n",
              "      <th>RA</th>\n",
              "      <th>RA_center</th>\n",
              "    </tr>\n",
              "  </thead>\n",
              "  <tbody>\n",
              "    <tr>\n",
              "      <th>0</th>\n",
              "      <td>50.0</td>\n",
              "      <td>50.0</td>\n",
              "      <td>50.5</td>\n",
              "    </tr>\n",
              "    <tr>\n",
              "      <th>1</th>\n",
              "      <td>51.0</td>\n",
              "      <td>50.5</td>\n",
              "      <td>51.0</td>\n",
              "    </tr>\n",
              "    <tr>\n",
              "      <th>2</th>\n",
              "      <td>52.0</td>\n",
              "      <td>51.0</td>\n",
              "      <td>51.5</td>\n",
              "    </tr>\n",
              "    <tr>\n",
              "      <th>3</th>\n",
              "      <td>NaN</td>\n",
              "      <td>51.5</td>\n",
              "      <td>53.0</td>\n",
              "    </tr>\n",
              "    <tr>\n",
              "      <th>4</th>\n",
              "      <td>54.0</td>\n",
              "      <td>53.0</td>\n",
              "      <td>54.5</td>\n",
              "    </tr>\n",
              "    <tr>\n",
              "      <th>5</th>\n",
              "      <td>55.0</td>\n",
              "      <td>54.5</td>\n",
              "      <td>55.0</td>\n",
              "    </tr>\n",
              "    <tr>\n",
              "      <th>6</th>\n",
              "      <td>56.0</td>\n",
              "      <td>55.0</td>\n",
              "      <td>55.5</td>\n",
              "    </tr>\n",
              "    <tr>\n",
              "      <th>7</th>\n",
              "      <td>NaN</td>\n",
              "      <td>55.5</td>\n",
              "      <td>57.0</td>\n",
              "    </tr>\n",
              "    <tr>\n",
              "      <th>8</th>\n",
              "      <td>58.0</td>\n",
              "      <td>57.0</td>\n",
              "      <td>58.5</td>\n",
              "    </tr>\n",
              "    <tr>\n",
              "      <th>9</th>\n",
              "      <td>59.0</td>\n",
              "      <td>58.5</td>\n",
              "      <td>58.5</td>\n",
              "    </tr>\n",
              "    <tr>\n",
              "      <th>10</th>\n",
              "      <td>NaN</td>\n",
              "      <td>58.5</td>\n",
              "      <td>59.0</td>\n",
              "    </tr>\n",
              "    <tr>\n",
              "      <th>11</th>\n",
              "      <td>NaN</td>\n",
              "      <td>59.0</td>\n",
              "      <td>62.0</td>\n",
              "    </tr>\n",
              "    <tr>\n",
              "      <th>12</th>\n",
              "      <td>62.0</td>\n",
              "      <td>62.0</td>\n",
              "      <td>62.5</td>\n",
              "    </tr>\n",
              "    <tr>\n",
              "      <th>13</th>\n",
              "      <td>63.0</td>\n",
              "      <td>62.5</td>\n",
              "      <td>62.5</td>\n",
              "    </tr>\n",
              "  </tbody>\n",
              "</table>\n",
              "</div>"
            ],
            "text/plain": [
              "    Humidity    RA  RA_center\n",
              "0       50.0  50.0       50.5\n",
              "1       51.0  50.5       51.0\n",
              "2       52.0  51.0       51.5\n",
              "3        NaN  51.5       53.0\n",
              "4       54.0  53.0       54.5\n",
              "5       55.0  54.5       55.0\n",
              "6       56.0  55.0       55.5\n",
              "7        NaN  55.5       57.0\n",
              "8       58.0  57.0       58.5\n",
              "9       59.0  58.5       58.5\n",
              "10       NaN  58.5       59.0\n",
              "11       NaN  59.0       62.0\n",
              "12      62.0  62.0       62.5\n",
              "13      63.0  62.5       62.5"
            ]
          },
          "metadata": {
            "tags": []
          },
          "execution_count": 45
        }
      ]
    },
    {
      "cell_type": "code",
      "metadata": {
        "colab": {
          "base_uri": "https://localhost:8080/",
          "height": 488
        },
        "id": "TsHCie_Msajm",
        "outputId": "20b62896-1633-4f5e-98b7-e2b97a3efdbf"
      },
      "source": [
        "frame = pd.DataFrame({'Humidity':np.arange(50,64), 'Temp' : np.arange(50,64)})\n",
        "frame.rolling(4,min_periods=1).mean()"
      ],
      "execution_count": null,
      "outputs": [
        {
          "output_type": "execute_result",
          "data": {
            "text/html": [
              "<div>\n",
              "<style scoped>\n",
              "    .dataframe tbody tr th:only-of-type {\n",
              "        vertical-align: middle;\n",
              "    }\n",
              "\n",
              "    .dataframe tbody tr th {\n",
              "        vertical-align: top;\n",
              "    }\n",
              "\n",
              "    .dataframe thead th {\n",
              "        text-align: right;\n",
              "    }\n",
              "</style>\n",
              "<table border=\"1\" class=\"dataframe\">\n",
              "  <thead>\n",
              "    <tr style=\"text-align: right;\">\n",
              "      <th></th>\n",
              "      <th>Humidity</th>\n",
              "      <th>Temp</th>\n",
              "    </tr>\n",
              "  </thead>\n",
              "  <tbody>\n",
              "    <tr>\n",
              "      <th>0</th>\n",
              "      <td>50.0</td>\n",
              "      <td>50.0</td>\n",
              "    </tr>\n",
              "    <tr>\n",
              "      <th>1</th>\n",
              "      <td>50.5</td>\n",
              "      <td>50.5</td>\n",
              "    </tr>\n",
              "    <tr>\n",
              "      <th>2</th>\n",
              "      <td>51.0</td>\n",
              "      <td>51.0</td>\n",
              "    </tr>\n",
              "    <tr>\n",
              "      <th>3</th>\n",
              "      <td>51.5</td>\n",
              "      <td>51.5</td>\n",
              "    </tr>\n",
              "    <tr>\n",
              "      <th>4</th>\n",
              "      <td>52.5</td>\n",
              "      <td>52.5</td>\n",
              "    </tr>\n",
              "    <tr>\n",
              "      <th>5</th>\n",
              "      <td>53.5</td>\n",
              "      <td>53.5</td>\n",
              "    </tr>\n",
              "    <tr>\n",
              "      <th>6</th>\n",
              "      <td>54.5</td>\n",
              "      <td>54.5</td>\n",
              "    </tr>\n",
              "    <tr>\n",
              "      <th>7</th>\n",
              "      <td>55.5</td>\n",
              "      <td>55.5</td>\n",
              "    </tr>\n",
              "    <tr>\n",
              "      <th>8</th>\n",
              "      <td>56.5</td>\n",
              "      <td>56.5</td>\n",
              "    </tr>\n",
              "    <tr>\n",
              "      <th>9</th>\n",
              "      <td>57.5</td>\n",
              "      <td>57.5</td>\n",
              "    </tr>\n",
              "    <tr>\n",
              "      <th>10</th>\n",
              "      <td>58.5</td>\n",
              "      <td>58.5</td>\n",
              "    </tr>\n",
              "    <tr>\n",
              "      <th>11</th>\n",
              "      <td>59.5</td>\n",
              "      <td>59.5</td>\n",
              "    </tr>\n",
              "    <tr>\n",
              "      <th>12</th>\n",
              "      <td>60.5</td>\n",
              "      <td>60.5</td>\n",
              "    </tr>\n",
              "    <tr>\n",
              "      <th>13</th>\n",
              "      <td>61.5</td>\n",
              "      <td>61.5</td>\n",
              "    </tr>\n",
              "  </tbody>\n",
              "</table>\n",
              "</div>"
            ],
            "text/plain": [
              "    Humidity  Temp\n",
              "0       50.0  50.0\n",
              "1       50.5  50.5\n",
              "2       51.0  51.0\n",
              "3       51.5  51.5\n",
              "4       52.5  52.5\n",
              "5       53.5  53.5\n",
              "6       54.5  54.5\n",
              "7       55.5  55.5\n",
              "8       56.5  56.5\n",
              "9       57.5  57.5\n",
              "10      58.5  58.5\n",
              "11      59.5  59.5\n",
              "12      60.5  60.5\n",
              "13      61.5  61.5"
            ]
          },
          "metadata": {
            "tags": []
          },
          "execution_count": 46
        }
      ]
    },
    {
      "cell_type": "markdown",
      "metadata": {
        "id": "t8wbcCmlNT0O"
      },
      "source": [
        "### Use fillna function to fill the missing values with rolling average"
      ]
    },
    {
      "cell_type": "code",
      "metadata": {
        "scrolled": true,
        "colab": {
          "base_uri": "https://localhost:8080/",
          "height": 508
        },
        "id": "yF6TetQEsajp",
        "outputId": "33659613-1846-4358-dbc3-0d9a1430bab0"
      },
      "source": [
        "frame = pd.DataFrame({'Humidity':np.arange(50,64)})\n",
        "\n",
        "frame.loc[[3,7,10,11],'Humidity'] = np.nan\n",
        "frame['Humidity_RA'] = frame.Humidity.rolling(4,min_periods=1).mean()\n",
        "frame['Humidity_w_4'] = frame.Humidity.fillna(frame.Humidity.rolling(4,min_periods=1).mean())\n",
        "frame['Humidity_w_4_c'] = frame.Humidity.fillna(frame.Humidity.rolling(4,center=True,min_periods=1).mean())\n",
        "frame['Humidity_w_2'] = frame.Humidity.fillna(frame.Humidity.rolling(2,min_periods=1).mean())\n",
        "frame['Humidity_w_2_c'] = frame.Humidity.fillna(frame.Humidity.rolling(2,center=True,min_periods=1).mean())\n",
        "#center='True'\n",
        "frame"
      ],
      "execution_count": null,
      "outputs": [
        {
          "output_type": "execute_result",
          "data": {
            "text/html": [
              "<div>\n",
              "<style scoped>\n",
              "    .dataframe tbody tr th:only-of-type {\n",
              "        vertical-align: middle;\n",
              "    }\n",
              "\n",
              "    .dataframe tbody tr th {\n",
              "        vertical-align: top;\n",
              "    }\n",
              "\n",
              "    .dataframe thead th {\n",
              "        text-align: right;\n",
              "    }\n",
              "</style>\n",
              "<table border=\"1\" class=\"dataframe\">\n",
              "  <thead>\n",
              "    <tr style=\"text-align: right;\">\n",
              "      <th></th>\n",
              "      <th>Humidity</th>\n",
              "      <th>Humidity_RA</th>\n",
              "      <th>Humidity_w_4</th>\n",
              "      <th>Humidity_w_4_c</th>\n",
              "      <th>Humidity_w_2</th>\n",
              "      <th>Humidity_w_2_c</th>\n",
              "    </tr>\n",
              "  </thead>\n",
              "  <tbody>\n",
              "    <tr>\n",
              "      <th>0</th>\n",
              "      <td>50.0</td>\n",
              "      <td>50.000000</td>\n",
              "      <td>50.0</td>\n",
              "      <td>50.000000</td>\n",
              "      <td>50.0</td>\n",
              "      <td>50.0</td>\n",
              "    </tr>\n",
              "    <tr>\n",
              "      <th>1</th>\n",
              "      <td>51.0</td>\n",
              "      <td>50.500000</td>\n",
              "      <td>51.0</td>\n",
              "      <td>51.000000</td>\n",
              "      <td>51.0</td>\n",
              "      <td>51.0</td>\n",
              "    </tr>\n",
              "    <tr>\n",
              "      <th>2</th>\n",
              "      <td>52.0</td>\n",
              "      <td>51.000000</td>\n",
              "      <td>52.0</td>\n",
              "      <td>52.000000</td>\n",
              "      <td>52.0</td>\n",
              "      <td>52.0</td>\n",
              "    </tr>\n",
              "    <tr>\n",
              "      <th>3</th>\n",
              "      <td>NaN</td>\n",
              "      <td>51.000000</td>\n",
              "      <td>51.0</td>\n",
              "      <td>52.333333</td>\n",
              "      <td>52.0</td>\n",
              "      <td>52.0</td>\n",
              "    </tr>\n",
              "    <tr>\n",
              "      <th>4</th>\n",
              "      <td>54.0</td>\n",
              "      <td>52.333333</td>\n",
              "      <td>54.0</td>\n",
              "      <td>54.000000</td>\n",
              "      <td>54.0</td>\n",
              "      <td>54.0</td>\n",
              "    </tr>\n",
              "    <tr>\n",
              "      <th>5</th>\n",
              "      <td>55.0</td>\n",
              "      <td>53.666667</td>\n",
              "      <td>55.0</td>\n",
              "      <td>55.000000</td>\n",
              "      <td>55.0</td>\n",
              "      <td>55.0</td>\n",
              "    </tr>\n",
              "    <tr>\n",
              "      <th>6</th>\n",
              "      <td>56.0</td>\n",
              "      <td>55.000000</td>\n",
              "      <td>56.0</td>\n",
              "      <td>56.000000</td>\n",
              "      <td>56.0</td>\n",
              "      <td>56.0</td>\n",
              "    </tr>\n",
              "    <tr>\n",
              "      <th>7</th>\n",
              "      <td>NaN</td>\n",
              "      <td>55.000000</td>\n",
              "      <td>55.0</td>\n",
              "      <td>56.333333</td>\n",
              "      <td>56.0</td>\n",
              "      <td>56.0</td>\n",
              "    </tr>\n",
              "    <tr>\n",
              "      <th>8</th>\n",
              "      <td>58.0</td>\n",
              "      <td>56.333333</td>\n",
              "      <td>58.0</td>\n",
              "      <td>58.000000</td>\n",
              "      <td>58.0</td>\n",
              "      <td>58.0</td>\n",
              "    </tr>\n",
              "    <tr>\n",
              "      <th>9</th>\n",
              "      <td>59.0</td>\n",
              "      <td>57.666667</td>\n",
              "      <td>59.0</td>\n",
              "      <td>59.000000</td>\n",
              "      <td>59.0</td>\n",
              "      <td>59.0</td>\n",
              "    </tr>\n",
              "    <tr>\n",
              "      <th>10</th>\n",
              "      <td>NaN</td>\n",
              "      <td>58.500000</td>\n",
              "      <td>58.5</td>\n",
              "      <td>58.500000</td>\n",
              "      <td>59.0</td>\n",
              "      <td>59.0</td>\n",
              "    </tr>\n",
              "    <tr>\n",
              "      <th>11</th>\n",
              "      <td>NaN</td>\n",
              "      <td>58.500000</td>\n",
              "      <td>58.5</td>\n",
              "      <td>60.500000</td>\n",
              "      <td>NaN</td>\n",
              "      <td>NaN</td>\n",
              "    </tr>\n",
              "    <tr>\n",
              "      <th>12</th>\n",
              "      <td>62.0</td>\n",
              "      <td>60.500000</td>\n",
              "      <td>62.0</td>\n",
              "      <td>62.000000</td>\n",
              "      <td>62.0</td>\n",
              "      <td>62.0</td>\n",
              "    </tr>\n",
              "    <tr>\n",
              "      <th>13</th>\n",
              "      <td>63.0</td>\n",
              "      <td>62.500000</td>\n",
              "      <td>63.0</td>\n",
              "      <td>63.000000</td>\n",
              "      <td>63.0</td>\n",
              "      <td>63.0</td>\n",
              "    </tr>\n",
              "  </tbody>\n",
              "</table>\n",
              "</div>"
            ],
            "text/plain": [
              "    Humidity  Humidity_RA  ...  Humidity_w_2  Humidity_w_2_c\n",
              "0       50.0    50.000000  ...          50.0            50.0\n",
              "1       51.0    50.500000  ...          51.0            51.0\n",
              "2       52.0    51.000000  ...          52.0            52.0\n",
              "3        NaN    51.000000  ...          52.0            52.0\n",
              "4       54.0    52.333333  ...          54.0            54.0\n",
              "5       55.0    53.666667  ...          55.0            55.0\n",
              "6       56.0    55.000000  ...          56.0            56.0\n",
              "7        NaN    55.000000  ...          56.0            56.0\n",
              "8       58.0    56.333333  ...          58.0            58.0\n",
              "9       59.0    57.666667  ...          59.0            59.0\n",
              "10       NaN    58.500000  ...          59.0            59.0\n",
              "11       NaN    58.500000  ...           NaN             NaN\n",
              "12      62.0    60.500000  ...          62.0            62.0\n",
              "13      63.0    62.500000  ...          63.0            63.0\n",
              "\n",
              "[14 rows x 6 columns]"
            ]
          },
          "metadata": {
            "tags": []
          },
          "execution_count": 48
        }
      ]
    },
    {
      "cell_type": "markdown",
      "metadata": {
        "id": "idS0ZO6GPN72"
      },
      "source": [
        "## Use interpolate function to fill the missing values using interpolation\n",
        "\n",
        "### NOTE : It is not used much because real world patterns of time series are very complex and cannot be interpolated"
      ]
    },
    {
      "cell_type": "code",
      "metadata": {
        "colab": {
          "base_uri": "https://localhost:8080/",
          "height": 488
        },
        "id": "YXuPWL2bsajq",
        "outputId": "02542f15-d19a-4ae6-bb04-1e352d617046"
      },
      "source": [
        "frame = pd.DataFrame({'Humidity':np.arange(50,64)})\n",
        "\n",
        "frame.loc[[0,7,10,11],'Humidity'] = np.nan\n",
        "# print(frame)\n",
        "frame['Humidity_inter'] = frame['Humidity'].interpolate(method='linear',limit_direction='both')\n",
        "frame"
      ],
      "execution_count": null,
      "outputs": [
        {
          "output_type": "execute_result",
          "data": {
            "text/html": [
              "<div>\n",
              "<style scoped>\n",
              "    .dataframe tbody tr th:only-of-type {\n",
              "        vertical-align: middle;\n",
              "    }\n",
              "\n",
              "    .dataframe tbody tr th {\n",
              "        vertical-align: top;\n",
              "    }\n",
              "\n",
              "    .dataframe thead th {\n",
              "        text-align: right;\n",
              "    }\n",
              "</style>\n",
              "<table border=\"1\" class=\"dataframe\">\n",
              "  <thead>\n",
              "    <tr style=\"text-align: right;\">\n",
              "      <th></th>\n",
              "      <th>Humidity</th>\n",
              "      <th>Humidity_inter</th>\n",
              "    </tr>\n",
              "  </thead>\n",
              "  <tbody>\n",
              "    <tr>\n",
              "      <th>0</th>\n",
              "      <td>NaN</td>\n",
              "      <td>51.0</td>\n",
              "    </tr>\n",
              "    <tr>\n",
              "      <th>1</th>\n",
              "      <td>51.0</td>\n",
              "      <td>51.0</td>\n",
              "    </tr>\n",
              "    <tr>\n",
              "      <th>2</th>\n",
              "      <td>52.0</td>\n",
              "      <td>52.0</td>\n",
              "    </tr>\n",
              "    <tr>\n",
              "      <th>3</th>\n",
              "      <td>53.0</td>\n",
              "      <td>53.0</td>\n",
              "    </tr>\n",
              "    <tr>\n",
              "      <th>4</th>\n",
              "      <td>54.0</td>\n",
              "      <td>54.0</td>\n",
              "    </tr>\n",
              "    <tr>\n",
              "      <th>5</th>\n",
              "      <td>55.0</td>\n",
              "      <td>55.0</td>\n",
              "    </tr>\n",
              "    <tr>\n",
              "      <th>6</th>\n",
              "      <td>56.0</td>\n",
              "      <td>56.0</td>\n",
              "    </tr>\n",
              "    <tr>\n",
              "      <th>7</th>\n",
              "      <td>NaN</td>\n",
              "      <td>57.0</td>\n",
              "    </tr>\n",
              "    <tr>\n",
              "      <th>8</th>\n",
              "      <td>58.0</td>\n",
              "      <td>58.0</td>\n",
              "    </tr>\n",
              "    <tr>\n",
              "      <th>9</th>\n",
              "      <td>59.0</td>\n",
              "      <td>59.0</td>\n",
              "    </tr>\n",
              "    <tr>\n",
              "      <th>10</th>\n",
              "      <td>NaN</td>\n",
              "      <td>60.0</td>\n",
              "    </tr>\n",
              "    <tr>\n",
              "      <th>11</th>\n",
              "      <td>NaN</td>\n",
              "      <td>61.0</td>\n",
              "    </tr>\n",
              "    <tr>\n",
              "      <th>12</th>\n",
              "      <td>62.0</td>\n",
              "      <td>62.0</td>\n",
              "    </tr>\n",
              "    <tr>\n",
              "      <th>13</th>\n",
              "      <td>63.0</td>\n",
              "      <td>63.0</td>\n",
              "    </tr>\n",
              "  </tbody>\n",
              "</table>\n",
              "</div>"
            ],
            "text/plain": [
              "    Humidity  Humidity_inter\n",
              "0        NaN            51.0\n",
              "1       51.0            51.0\n",
              "2       52.0            52.0\n",
              "3       53.0            53.0\n",
              "4       54.0            54.0\n",
              "5       55.0            55.0\n",
              "6       56.0            56.0\n",
              "7        NaN            57.0\n",
              "8       58.0            58.0\n",
              "9       59.0            59.0\n",
              "10       NaN            60.0\n",
              "11       NaN            61.0\n",
              "12      62.0            62.0\n",
              "13      63.0            63.0"
            ]
          },
          "metadata": {
            "tags": []
          },
          "execution_count": 50
        }
      ]
    },
    {
      "cell_type": "markdown",
      "metadata": {
        "id": "nGKrjidCQ0GQ"
      },
      "source": [
        "## Use fillna and method = backfill to fill backwords"
      ]
    },
    {
      "cell_type": "code",
      "metadata": {
        "colab": {
          "base_uri": "https://localhost:8080/",
          "height": 488
        },
        "id": "ks9uoF_9sajr",
        "outputId": "37ca4a13-05a7-4799-e95a-7b1c075eda60"
      },
      "source": [
        "frame = pd.DataFrame({'Humidity':np.arange(50,64)})\n",
        "\n",
        "frame.loc[[3,7,10,11],'Humidity'] = np.nan\n",
        "# print(frame)\n",
        "frame['Humidity_backfill'] = frame['Humidity'].fillna(value=None, method='backfill', axis=None, limit=None, downcast=None)\n",
        "frame"
      ],
      "execution_count": null,
      "outputs": [
        {
          "output_type": "execute_result",
          "data": {
            "text/html": [
              "<div>\n",
              "<style scoped>\n",
              "    .dataframe tbody tr th:only-of-type {\n",
              "        vertical-align: middle;\n",
              "    }\n",
              "\n",
              "    .dataframe tbody tr th {\n",
              "        vertical-align: top;\n",
              "    }\n",
              "\n",
              "    .dataframe thead th {\n",
              "        text-align: right;\n",
              "    }\n",
              "</style>\n",
              "<table border=\"1\" class=\"dataframe\">\n",
              "  <thead>\n",
              "    <tr style=\"text-align: right;\">\n",
              "      <th></th>\n",
              "      <th>Humidity</th>\n",
              "      <th>Humidity_backfill</th>\n",
              "    </tr>\n",
              "  </thead>\n",
              "  <tbody>\n",
              "    <tr>\n",
              "      <th>0</th>\n",
              "      <td>50.0</td>\n",
              "      <td>50.0</td>\n",
              "    </tr>\n",
              "    <tr>\n",
              "      <th>1</th>\n",
              "      <td>51.0</td>\n",
              "      <td>51.0</td>\n",
              "    </tr>\n",
              "    <tr>\n",
              "      <th>2</th>\n",
              "      <td>52.0</td>\n",
              "      <td>52.0</td>\n",
              "    </tr>\n",
              "    <tr>\n",
              "      <th>3</th>\n",
              "      <td>NaN</td>\n",
              "      <td>54.0</td>\n",
              "    </tr>\n",
              "    <tr>\n",
              "      <th>4</th>\n",
              "      <td>54.0</td>\n",
              "      <td>54.0</td>\n",
              "    </tr>\n",
              "    <tr>\n",
              "      <th>5</th>\n",
              "      <td>55.0</td>\n",
              "      <td>55.0</td>\n",
              "    </tr>\n",
              "    <tr>\n",
              "      <th>6</th>\n",
              "      <td>56.0</td>\n",
              "      <td>56.0</td>\n",
              "    </tr>\n",
              "    <tr>\n",
              "      <th>7</th>\n",
              "      <td>NaN</td>\n",
              "      <td>58.0</td>\n",
              "    </tr>\n",
              "    <tr>\n",
              "      <th>8</th>\n",
              "      <td>58.0</td>\n",
              "      <td>58.0</td>\n",
              "    </tr>\n",
              "    <tr>\n",
              "      <th>9</th>\n",
              "      <td>59.0</td>\n",
              "      <td>59.0</td>\n",
              "    </tr>\n",
              "    <tr>\n",
              "      <th>10</th>\n",
              "      <td>NaN</td>\n",
              "      <td>62.0</td>\n",
              "    </tr>\n",
              "    <tr>\n",
              "      <th>11</th>\n",
              "      <td>NaN</td>\n",
              "      <td>62.0</td>\n",
              "    </tr>\n",
              "    <tr>\n",
              "      <th>12</th>\n",
              "      <td>62.0</td>\n",
              "      <td>62.0</td>\n",
              "    </tr>\n",
              "    <tr>\n",
              "      <th>13</th>\n",
              "      <td>63.0</td>\n",
              "      <td>63.0</td>\n",
              "    </tr>\n",
              "  </tbody>\n",
              "</table>\n",
              "</div>"
            ],
            "text/plain": [
              "    Humidity  Humidity_backfill\n",
              "0       50.0               50.0\n",
              "1       51.0               51.0\n",
              "2       52.0               52.0\n",
              "3        NaN               54.0\n",
              "4       54.0               54.0\n",
              "5       55.0               55.0\n",
              "6       56.0               56.0\n",
              "7        NaN               58.0\n",
              "8       58.0               58.0\n",
              "9       59.0               59.0\n",
              "10       NaN               62.0\n",
              "11       NaN               62.0\n",
              "12      62.0               62.0\n",
              "13      63.0               63.0"
            ]
          },
          "metadata": {
            "tags": []
          },
          "execution_count": 51
        }
      ]
    },
    {
      "cell_type": "code",
      "metadata": {
        "colab": {
          "base_uri": "https://localhost:8080/",
          "height": 488
        },
        "id": "DKGXqD7lsajs",
        "outputId": "4e3a44de-4c3d-4327-fb31-3e2e6ca68d20"
      },
      "source": [
        "frame = pd.DataFrame({'Humidity':np.arange(50,64)})\n",
        "\n",
        "frame.loc[[3,7,10,11],'Humidity'] = np.nan\n",
        "# print(frame)\n",
        "frame['Humidity_ffill'] = frame['Humidity'].fillna(method='ffill')#value=None, method='ffill', axis=None, limit=None, downcast=None)\n",
        "frame"
      ],
      "execution_count": null,
      "outputs": [
        {
          "output_type": "execute_result",
          "data": {
            "text/html": [
              "<div>\n",
              "<style scoped>\n",
              "    .dataframe tbody tr th:only-of-type {\n",
              "        vertical-align: middle;\n",
              "    }\n",
              "\n",
              "    .dataframe tbody tr th {\n",
              "        vertical-align: top;\n",
              "    }\n",
              "\n",
              "    .dataframe thead th {\n",
              "        text-align: right;\n",
              "    }\n",
              "</style>\n",
              "<table border=\"1\" class=\"dataframe\">\n",
              "  <thead>\n",
              "    <tr style=\"text-align: right;\">\n",
              "      <th></th>\n",
              "      <th>Humidity</th>\n",
              "      <th>Humidity_ffill</th>\n",
              "    </tr>\n",
              "  </thead>\n",
              "  <tbody>\n",
              "    <tr>\n",
              "      <th>0</th>\n",
              "      <td>50.0</td>\n",
              "      <td>50.0</td>\n",
              "    </tr>\n",
              "    <tr>\n",
              "      <th>1</th>\n",
              "      <td>51.0</td>\n",
              "      <td>51.0</td>\n",
              "    </tr>\n",
              "    <tr>\n",
              "      <th>2</th>\n",
              "      <td>52.0</td>\n",
              "      <td>52.0</td>\n",
              "    </tr>\n",
              "    <tr>\n",
              "      <th>3</th>\n",
              "      <td>NaN</td>\n",
              "      <td>52.0</td>\n",
              "    </tr>\n",
              "    <tr>\n",
              "      <th>4</th>\n",
              "      <td>54.0</td>\n",
              "      <td>54.0</td>\n",
              "    </tr>\n",
              "    <tr>\n",
              "      <th>5</th>\n",
              "      <td>55.0</td>\n",
              "      <td>55.0</td>\n",
              "    </tr>\n",
              "    <tr>\n",
              "      <th>6</th>\n",
              "      <td>56.0</td>\n",
              "      <td>56.0</td>\n",
              "    </tr>\n",
              "    <tr>\n",
              "      <th>7</th>\n",
              "      <td>NaN</td>\n",
              "      <td>56.0</td>\n",
              "    </tr>\n",
              "    <tr>\n",
              "      <th>8</th>\n",
              "      <td>58.0</td>\n",
              "      <td>58.0</td>\n",
              "    </tr>\n",
              "    <tr>\n",
              "      <th>9</th>\n",
              "      <td>59.0</td>\n",
              "      <td>59.0</td>\n",
              "    </tr>\n",
              "    <tr>\n",
              "      <th>10</th>\n",
              "      <td>NaN</td>\n",
              "      <td>59.0</td>\n",
              "    </tr>\n",
              "    <tr>\n",
              "      <th>11</th>\n",
              "      <td>NaN</td>\n",
              "      <td>59.0</td>\n",
              "    </tr>\n",
              "    <tr>\n",
              "      <th>12</th>\n",
              "      <td>62.0</td>\n",
              "      <td>62.0</td>\n",
              "    </tr>\n",
              "    <tr>\n",
              "      <th>13</th>\n",
              "      <td>63.0</td>\n",
              "      <td>63.0</td>\n",
              "    </tr>\n",
              "  </tbody>\n",
              "</table>\n",
              "</div>"
            ],
            "text/plain": [
              "    Humidity  Humidity_ffill\n",
              "0       50.0            50.0\n",
              "1       51.0            51.0\n",
              "2       52.0            52.0\n",
              "3        NaN            52.0\n",
              "4       54.0            54.0\n",
              "5       55.0            55.0\n",
              "6       56.0            56.0\n",
              "7        NaN            56.0\n",
              "8       58.0            58.0\n",
              "9       59.0            59.0\n",
              "10       NaN            59.0\n",
              "11       NaN            59.0\n",
              "12      62.0            62.0\n",
              "13      63.0            63.0"
            ]
          },
          "metadata": {
            "tags": []
          },
          "execution_count": 52
        }
      ]
    },
    {
      "cell_type": "code",
      "metadata": {
        "id": "ick4mUjlsajs"
      },
      "source": [
        "# n=5 # number of points to be checked before and after \n",
        "# # Find local peaks\n",
        "# df['min'] = df.iloc[argrelextrema(df.data.values, np.less_equal, order=n)[0]]['data']\n",
        "# df['max'] = df.iloc[argrelextrema(df.data.values, np.greater_equal, order=n)[0]]['data']"
      ],
      "execution_count": null,
      "outputs": []
    },
    {
      "cell_type": "markdown",
      "metadata": {
        "id": "FXcIFNP9KBsk"
      },
      "source": [
        "# HOmework\n",
        "\n",
        "Fill the missing values with rolling avg , interpollation, backfill and ffill"
      ]
    },
    {
      "cell_type": "code",
      "metadata": {
        "id": "ss1xhkGFsajt",
        "colab": {
          "base_uri": "https://localhost:8080/",
          "height": 1000
        },
        "outputId": "109d60b3-2cc4-4700-8fdd-06c58fba84e9"
      },
      "source": [
        "frame_new = pd.DataFrame({'Price':np.arange(50,100)})\n",
        "frame_new.loc[[12,4,45,46,47,34,33],'Price'] = np.nan\n",
        "frame_new"
      ],
      "execution_count": null,
      "outputs": [
        {
          "output_type": "execute_result",
          "data": {
            "text/html": [
              "<div>\n",
              "<style scoped>\n",
              "    .dataframe tbody tr th:only-of-type {\n",
              "        vertical-align: middle;\n",
              "    }\n",
              "\n",
              "    .dataframe tbody tr th {\n",
              "        vertical-align: top;\n",
              "    }\n",
              "\n",
              "    .dataframe thead th {\n",
              "        text-align: right;\n",
              "    }\n",
              "</style>\n",
              "<table border=\"1\" class=\"dataframe\">\n",
              "  <thead>\n",
              "    <tr style=\"text-align: right;\">\n",
              "      <th></th>\n",
              "      <th>Price</th>\n",
              "    </tr>\n",
              "  </thead>\n",
              "  <tbody>\n",
              "    <tr>\n",
              "      <th>0</th>\n",
              "      <td>50.0</td>\n",
              "    </tr>\n",
              "    <tr>\n",
              "      <th>1</th>\n",
              "      <td>51.0</td>\n",
              "    </tr>\n",
              "    <tr>\n",
              "      <th>2</th>\n",
              "      <td>52.0</td>\n",
              "    </tr>\n",
              "    <tr>\n",
              "      <th>3</th>\n",
              "      <td>53.0</td>\n",
              "    </tr>\n",
              "    <tr>\n",
              "      <th>4</th>\n",
              "      <td>NaN</td>\n",
              "    </tr>\n",
              "    <tr>\n",
              "      <th>5</th>\n",
              "      <td>55.0</td>\n",
              "    </tr>\n",
              "    <tr>\n",
              "      <th>6</th>\n",
              "      <td>56.0</td>\n",
              "    </tr>\n",
              "    <tr>\n",
              "      <th>7</th>\n",
              "      <td>57.0</td>\n",
              "    </tr>\n",
              "    <tr>\n",
              "      <th>8</th>\n",
              "      <td>58.0</td>\n",
              "    </tr>\n",
              "    <tr>\n",
              "      <th>9</th>\n",
              "      <td>59.0</td>\n",
              "    </tr>\n",
              "    <tr>\n",
              "      <th>10</th>\n",
              "      <td>60.0</td>\n",
              "    </tr>\n",
              "    <tr>\n",
              "      <th>11</th>\n",
              "      <td>61.0</td>\n",
              "    </tr>\n",
              "    <tr>\n",
              "      <th>12</th>\n",
              "      <td>NaN</td>\n",
              "    </tr>\n",
              "    <tr>\n",
              "      <th>13</th>\n",
              "      <td>63.0</td>\n",
              "    </tr>\n",
              "    <tr>\n",
              "      <th>14</th>\n",
              "      <td>64.0</td>\n",
              "    </tr>\n",
              "    <tr>\n",
              "      <th>15</th>\n",
              "      <td>65.0</td>\n",
              "    </tr>\n",
              "    <tr>\n",
              "      <th>16</th>\n",
              "      <td>66.0</td>\n",
              "    </tr>\n",
              "    <tr>\n",
              "      <th>17</th>\n",
              "      <td>67.0</td>\n",
              "    </tr>\n",
              "    <tr>\n",
              "      <th>18</th>\n",
              "      <td>68.0</td>\n",
              "    </tr>\n",
              "    <tr>\n",
              "      <th>19</th>\n",
              "      <td>69.0</td>\n",
              "    </tr>\n",
              "    <tr>\n",
              "      <th>20</th>\n",
              "      <td>70.0</td>\n",
              "    </tr>\n",
              "    <tr>\n",
              "      <th>21</th>\n",
              "      <td>71.0</td>\n",
              "    </tr>\n",
              "    <tr>\n",
              "      <th>22</th>\n",
              "      <td>72.0</td>\n",
              "    </tr>\n",
              "    <tr>\n",
              "      <th>23</th>\n",
              "      <td>73.0</td>\n",
              "    </tr>\n",
              "    <tr>\n",
              "      <th>24</th>\n",
              "      <td>74.0</td>\n",
              "    </tr>\n",
              "    <tr>\n",
              "      <th>25</th>\n",
              "      <td>75.0</td>\n",
              "    </tr>\n",
              "    <tr>\n",
              "      <th>26</th>\n",
              "      <td>76.0</td>\n",
              "    </tr>\n",
              "    <tr>\n",
              "      <th>27</th>\n",
              "      <td>77.0</td>\n",
              "    </tr>\n",
              "    <tr>\n",
              "      <th>28</th>\n",
              "      <td>78.0</td>\n",
              "    </tr>\n",
              "    <tr>\n",
              "      <th>29</th>\n",
              "      <td>79.0</td>\n",
              "    </tr>\n",
              "    <tr>\n",
              "      <th>30</th>\n",
              "      <td>80.0</td>\n",
              "    </tr>\n",
              "    <tr>\n",
              "      <th>31</th>\n",
              "      <td>81.0</td>\n",
              "    </tr>\n",
              "    <tr>\n",
              "      <th>32</th>\n",
              "      <td>82.0</td>\n",
              "    </tr>\n",
              "    <tr>\n",
              "      <th>33</th>\n",
              "      <td>NaN</td>\n",
              "    </tr>\n",
              "    <tr>\n",
              "      <th>34</th>\n",
              "      <td>NaN</td>\n",
              "    </tr>\n",
              "    <tr>\n",
              "      <th>35</th>\n",
              "      <td>85.0</td>\n",
              "    </tr>\n",
              "    <tr>\n",
              "      <th>36</th>\n",
              "      <td>86.0</td>\n",
              "    </tr>\n",
              "    <tr>\n",
              "      <th>37</th>\n",
              "      <td>87.0</td>\n",
              "    </tr>\n",
              "    <tr>\n",
              "      <th>38</th>\n",
              "      <td>88.0</td>\n",
              "    </tr>\n",
              "    <tr>\n",
              "      <th>39</th>\n",
              "      <td>89.0</td>\n",
              "    </tr>\n",
              "    <tr>\n",
              "      <th>40</th>\n",
              "      <td>90.0</td>\n",
              "    </tr>\n",
              "    <tr>\n",
              "      <th>41</th>\n",
              "      <td>91.0</td>\n",
              "    </tr>\n",
              "    <tr>\n",
              "      <th>42</th>\n",
              "      <td>92.0</td>\n",
              "    </tr>\n",
              "    <tr>\n",
              "      <th>43</th>\n",
              "      <td>93.0</td>\n",
              "    </tr>\n",
              "    <tr>\n",
              "      <th>44</th>\n",
              "      <td>94.0</td>\n",
              "    </tr>\n",
              "    <tr>\n",
              "      <th>45</th>\n",
              "      <td>NaN</td>\n",
              "    </tr>\n",
              "    <tr>\n",
              "      <th>46</th>\n",
              "      <td>NaN</td>\n",
              "    </tr>\n",
              "    <tr>\n",
              "      <th>47</th>\n",
              "      <td>NaN</td>\n",
              "    </tr>\n",
              "    <tr>\n",
              "      <th>48</th>\n",
              "      <td>98.0</td>\n",
              "    </tr>\n",
              "    <tr>\n",
              "      <th>49</th>\n",
              "      <td>99.0</td>\n",
              "    </tr>\n",
              "  </tbody>\n",
              "</table>\n",
              "</div>"
            ],
            "text/plain": [
              "    Price\n",
              "0    50.0\n",
              "1    51.0\n",
              "2    52.0\n",
              "3    53.0\n",
              "4     NaN\n",
              "5    55.0\n",
              "6    56.0\n",
              "7    57.0\n",
              "8    58.0\n",
              "9    59.0\n",
              "10   60.0\n",
              "11   61.0\n",
              "12    NaN\n",
              "13   63.0\n",
              "14   64.0\n",
              "15   65.0\n",
              "16   66.0\n",
              "17   67.0\n",
              "18   68.0\n",
              "19   69.0\n",
              "20   70.0\n",
              "21   71.0\n",
              "22   72.0\n",
              "23   73.0\n",
              "24   74.0\n",
              "25   75.0\n",
              "26   76.0\n",
              "27   77.0\n",
              "28   78.0\n",
              "29   79.0\n",
              "30   80.0\n",
              "31   81.0\n",
              "32   82.0\n",
              "33    NaN\n",
              "34    NaN\n",
              "35   85.0\n",
              "36   86.0\n",
              "37   87.0\n",
              "38   88.0\n",
              "39   89.0\n",
              "40   90.0\n",
              "41   91.0\n",
              "42   92.0\n",
              "43   93.0\n",
              "44   94.0\n",
              "45    NaN\n",
              "46    NaN\n",
              "47    NaN\n",
              "48   98.0\n",
              "49   99.0"
            ]
          },
          "metadata": {
            "tags": []
          },
          "execution_count": 53
        }
      ]
    },
    {
      "cell_type": "code",
      "metadata": {
        "id": "PUMZJ3CkTczf"
      },
      "source": [
        ""
      ],
      "execution_count": null,
      "outputs": []
    }
  ]
}